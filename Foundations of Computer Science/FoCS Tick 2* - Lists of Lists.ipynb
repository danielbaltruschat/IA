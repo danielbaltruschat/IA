{
 "cells": [
  {
   "cell_type": "markdown",
   "metadata": {},
   "source": [
    "Before you submit this tick, make sure everything runs as expected. First, **save your work** (in the menubar, select File$\\rightarrow$Save and Checkpoint). Then **restart the kernel** (in the menubar, select Kernel$\\rightarrow$Restart) and then **run all cells** (in the menubar, select Cell$\\rightarrow$Run All).\n",
    "\n",
    "Make sure you fill in any place that says `YOUR CODE HERE` or \"YOUR ANSWER HERE\", and remove any instances of `failwith \"Not implemented\";;`\n"
   ]
  },
  {
   "cell_type": "markdown",
   "metadata": {},
   "source": [
    "---"
   ]
  },
  {
   "cell_type": "markdown",
   "metadata": {},
   "source": [
    "# FoCS Tick 2* - Lists of Lists\n",
    "\n",
    "Write a function `choose k xs` that returns all k-element lists that can be drawn from xs, ignoring the order of list elements. If `n` is the length of `xs`, then (provided $k\\le n$) the result should be an $\\begin{pmatrix} n \\\\ k \\end{pmatrix}$-element list.\n",
    "\n",
    "It may be useful to first define two auxiliary functions: one that adds a specific element to every list in a list of lists:"
   ]
  },
  {
   "cell_type": "code",
   "execution_count": 1,
   "metadata": {
    "deletable": false,
    "nbgrader": {
     "cell_type": "code",
     "checksum": "2c60b52eec8d9cf64b0d8f943e93fefe",
     "grade": false,
     "grade_id": "cell-5063e744d0696f60",
     "locked": false,
     "schema_version": 3,
     "solution": true,
     "task": false
    }
   },
   "outputs": [
    {
     "data": {
      "text/plain": [
       "val allcons : 'a -> 'a list list -> 'a list list = <fun>\n"
      ]
     },
     "execution_count": 1,
     "metadata": {},
     "output_type": "execute_result"
    }
   ],
   "source": [
    "let allcons x xs = List.map (fun l -> x::l) xs"
   ]
  },
  {
   "cell_type": "code",
   "execution_count": 3,
   "metadata": {
    "deletable": false,
    "editable": false,
    "nbgrader": {
     "cell_type": "code",
     "checksum": "9cb91cb187b7ecba2e72a1d31ffac707",
     "grade": true,
     "grade_id": "cell-6641ad5ec55c6bc4",
     "locked": true,
     "points": 1,
     "schema_version": 3,
     "solution": false,
     "task": false
    }
   },
   "outputs": [
    {
     "data": {
      "text/plain": [
       "- : unit = ()\n"
      ]
     },
     "execution_count": 3,
     "metadata": {},
     "output_type": "execute_result"
    }
   ],
   "source": [
    "assert(allcons 1 [[]; [2]; [2;3]] = [[1]; [1;2]; [1;2;3]]);;"
   ]
  },
  {
   "cell_type": "markdown",
   "metadata": {},
   "source": [
    "and a function that concatenates two lists (of lists) together:"
   ]
  },
  {
   "cell_type": "code",
   "execution_count": 2,
   "metadata": {
    "deletable": false,
    "nbgrader": {
     "cell_type": "code",
     "checksum": "e824841ff26729c50779706ec248b209",
     "grade": false,
     "grade_id": "cell-830e942cb0cd494d",
     "locked": false,
     "schema_version": 3,
     "solution": true,
     "task": false
    }
   },
   "outputs": [
    {
     "data": {
      "text/plain": [
       "val concat : 'a list -> 'a list -> 'a list = <fun>\n"
      ]
     },
     "execution_count": 2,
     "metadata": {},
     "output_type": "execute_result"
    }
   ],
   "source": [
    "let rec concat xs ys = xs @ ys"
   ]
  },
  {
   "cell_type": "code",
   "execution_count": 4,
   "metadata": {
    "deletable": false,
    "editable": false,
    "nbgrader": {
     "cell_type": "code",
     "checksum": "e04ecf8242b1b5356ac58f37be1272de",
     "grade": true,
     "grade_id": "cell-89ab2833a874354c",
     "locked": true,
     "points": 1,
     "schema_version": 3,
     "solution": false,
     "task": false
    }
   },
   "outputs": [
    {
     "data": {
      "text/plain": [
       "- : unit = ()\n"
      ]
     },
     "execution_count": 4,
     "metadata": {},
     "output_type": "execute_result"
    }
   ],
   "source": [
    "assert(concat [[1];[2;3]] [[];[4;5;6]] = [[1];[2;3];[];[4;5;6]]);;"
   ]
  },
  {
   "cell_type": "markdown",
   "metadata": {},
   "source": [
    "although it is not mandatory to use these functions in your solution."
   ]
  },
  {
   "cell_type": "code",
   "execution_count": 7,
   "metadata": {
    "deletable": false,
    "nbgrader": {
     "cell_type": "code",
     "checksum": "7b590ae51c6b668f96a3e331890a32ad",
     "grade": false,
     "grade_id": "cell-c89f9b4b13e96987",
     "locked": false,
     "schema_version": 3,
     "solution": true,
     "task": false
    }
   },
   "outputs": [
    {
     "data": {
      "text/plain": [
       "val choose : int -> 'a list -> 'a list list = <fun>\n"
      ]
     },
     "execution_count": 7,
     "metadata": {},
     "output_type": "execute_result"
    }
   ],
   "source": [
    "let rec choose k xs = if k=(List.length xs) then [xs] else match xs with\n",
    "    | [] -> []\n",
    "    | x::xs -> allcons x (choose k xs)\n"
   ]
  },
  {
   "cell_type": "markdown",
   "metadata": {},
   "source": [
    "The following cell contains an inefficient test for the choose function. Once again you are not expected to understand it in detail."
   ]
  },
  {
   "cell_type": "code",
   "execution_count": 8,
   "metadata": {
    "deletable": false,
    "editable": false,
    "nbgrader": {
     "cell_type": "code",
     "checksum": "a0a6ec5241b0bd75b575ee02a7701e17",
     "grade": true,
     "grade_id": "cell-2e357dfbc562cd1b",
     "locked": true,
     "points": 1,
     "schema_version": 3,
     "solution": false,
     "task": false
    }
   },
   "outputs": [
    {
     "data": {
      "text/plain": [
       "val compare : 'a list list -> 'a list list -> bool = <fun>\n"
      ]
     },
     "execution_count": 8,
     "metadata": {},
     "output_type": "execute_result"
    },
    {
     "data": {
      "text/plain": [
       "val result : int list list = [[1; 2; 3; 4; 5; 6]]\n"
      ]
     },
     "execution_count": 8,
     "metadata": {},
     "output_type": "execute_result"
    },
    {
     "data": {
      "text/plain": [
       "val correct : int list list =\n",
       "  [[3; 4; 5; 6]; [2; 4; 5; 6]; [2; 3; 5; 6]; [2; 3; 4; 6]; [2; 3; 4; 5];\n",
       "   [1; 4; 5; 6]; [1; 3; 5; 6]; [1; 3; 4; 6]; [1; 3; 4; 5]; [1; 2; 5; 6];\n",
       "   [1; 2; 4; 6]; [1; 2; 4; 5]; [1; 2; 3; 6]; [1; 2; 3; 5]; [1; 2; 3; 4]]\n"
      ]
     },
     "execution_count": 8,
     "metadata": {},
     "output_type": "execute_result"
    },
    {
     "ename": "error",
     "evalue": "runtime_error",
     "output_type": "error",
     "traceback": [
      "\u001b[31mException: Assert_failure (\"[8]\", 17, 0).\nCalled from Stdlib__Fun.protect in file \"fun.ml\", line 33, characters 8-15\nRe-raised at Stdlib__Fun.protect in file \"fun.ml\", line 38, characters 6-52\nCalled from Topeval.load_lambda in file \"toplevel/byte/topeval.ml\", line 89, characters 4-150\n\u001b[0m"
     ]
    }
   ],
   "source": [
    "let compare is js =\n",
    "    let rec check ys = function\n",
    "      | x::xs ->\n",
    "          let sorted_x = List.sort Stdlib.compare x in\n",
    "          let ok = List.exists (fun y ->\n",
    "              let sorted_y = List.sort Stdlib.compare y in\n",
    "              sorted_x = sorted_y) ys in\n",
    "          ok && check ys xs\n",
    "      | _ -> true\n",
    "    in\n",
    "    check is js && check js is && (List.length is = List.length js);;\n",
    "\n",
    "let result = choose 4 [1;2;3;4;5;6];;\n",
    "let correct = [[3; 4; 5; 6]; [2; 4; 5; 6]; [2; 3; 5; 6]; [2; 3; 4; 6]; [2; 3; 4; 5];\n",
    "   [1; 4; 5; 6]; [1; 3; 5; 6]; [1; 3; 4; 6]; [1; 3; 4; 5]; [1; 2; 5; 6];\n",
    "   [1; 2; 4; 6]; [1; 2; 4; 5]; [1; 2; 3; 6]; [1; 2; 3; 5]; [1; 2; 3; 4]];;\n",
    "assert(compare result correct)\n"
   ]
  },
  {
   "cell_type": "code",
   "execution_count": null,
   "metadata": {},
   "outputs": [],
   "source": []
  }
 ],
 "metadata": {
  "kernelspec": {
   "display_name": "OCaml 4.14",
   "language": "OCaml",
   "name": "ocaml-jupyter"
  },
  "language_info": {
   "codemirror_mode": "text/x-ocaml",
   "file_extension": ".ml",
   "mimetype": "text/x-ocaml",
   "name": "OCaml",
   "nbconverter_exporter": null,
   "pygments_lexer": "OCaml",
   "version": "4.14.1"
  }
 },
 "nbformat": 4,
 "nbformat_minor": 2
}
