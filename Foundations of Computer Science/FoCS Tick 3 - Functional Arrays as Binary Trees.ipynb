{
 "cells": [
  {
   "cell_type": "markdown",
   "metadata": {},
   "source": [
    "Before you submit this tick, make sure everything runs as expected. First, **save your work** (in the menubar, select File$\\rightarrow$Save and Checkpoint). Then **restart the kernel** (in the menubar, select Kernel$\\rightarrow$Restart) and then **run all cells** (in the menubar, select Cell$\\rightarrow$Run All).\n",
    "\n",
    "Make sure you fill in any place that says `YOUR CODE HERE` or \"YOUR ANSWER HERE\", and remove any instances of `failwith \"Not implemented\";;`\n"
   ]
  },
  {
   "cell_type": "markdown",
   "metadata": {},
   "source": [
    "---"
   ]
  },
  {
   "cell_type": "markdown",
   "metadata": {},
   "source": [
    "# FoCS Tick 3 - Functional Arrays as Binary Trees\n",
    "\n",
    "This exercise concerns the tree representation of functional arrays, subscripted by positive integers according to their representation in binary notation. Compared with binary search tree approaches no labels need to be stored, trees always remained balanced, and access time is always logarithmic.\n",
    "\n",
    "The following cell declares the type to use and installs a printer to visualise the trees you produce."
   ]
  },
  {
   "cell_type": "code",
   "execution_count": 1,
   "metadata": {},
   "outputs": [
    {
     "data": {
      "text/plain": [
       "val p : int Focs.Tree.t -> unit = <fun>\n"
      ]
     },
     "execution_count": 1,
     "metadata": {},
     "output_type": "execute_result"
    },
    {
     "data": {
      "text/plain": [
       "type 'a tree = 'a Focs.Tree.t = Lf | Br of 'a * 'a tree * 'a tree\n"
      ]
     },
     "execution_count": 1,
     "metadata": {},
     "output_type": "execute_result"
    }
   ],
   "source": [
    "#require \"focs\";;\n",
    "#require \"jupyter.notebook\";;\n",
    "\n",
    "let p = Focs.Tree.printer string_of_int;;\n",
    "#install_printer p;;\n",
    "\n",
    "type 'a tree = 'a Focs.Tree.t =\n",
    "  | Lf\n",
    "  | Br of 'a * 'a tree * 'a tree;;\n"
   ]
  },
  {
   "cell_type": "markdown",
   "metadata": {},
   "source": [
    "1. Write an OCaml function `arrayoflist` to convert the list $[x_1,...x_n]$ to the corresponding functional array having $x_i$ at subscript position $i$ for $i = 1,...,n$. This can be done without calling the update operation. One way is with the help of the following little function, if you can figure out what it does:\n"
   ]
  },
  {
   "cell_type": "code",
   "execution_count": 2,
   "metadata": {},
   "outputs": [
    {
     "data": {
      "text/plain": [
       "val tcons : 'a -> 'a tree -> 'a tree = <fun>\n"
      ]
     },
     "execution_count": 2,
     "metadata": {},
     "output_type": "execute_result"
    }
   ],
   "source": [
    "let rec tcons v = function\n",
    "  | Lf -> Br (v, Lf, Lf)\n",
    "  | Br (w, t1, t2) -> Br (v, tcons w t2, t1)"
   ]
  },
  {
   "cell_type": "code",
   "execution_count": 3,
   "metadata": {
    "deletable": false,
    "nbgrader": {
     "cell_type": "code",
     "checksum": "039e889e1e91160509d471105fca68a8",
     "grade": false,
     "grade_id": "cell-2d54d1fd426904cb",
     "locked": false,
     "schema_version": 3,
     "solution": true,
     "task": false
    }
   },
   "outputs": [
    {
     "data": {
      "text/plain": [
       "val arrayoflist : 'a list -> 'a tree = <fun>\n"
      ]
     },
     "execution_count": 3,
     "metadata": {},
     "output_type": "execute_result"
    }
   ],
   "source": [
    "let rec arrayoflist l = match l with\n",
    "    | [] -> Lf\n",
    "    | x::xs -> tcons x (arrayoflist xs)"
   ]
  },
  {
   "cell_type": "markdown",
   "metadata": {},
   "source": [
    "The following cell contains some tests for your `arrayoflist` function."
   ]
  },
  {
   "cell_type": "code",
   "execution_count": 4,
   "metadata": {
    "deletable": false,
    "editable": false,
    "nbgrader": {
     "cell_type": "code",
     "checksum": "4e73d2442b176e164e2f3437269eadf5",
     "grade": true,
     "grade_id": "cell-28b4eaa459d0c7e7",
     "locked": true,
     "points": 1,
     "schema_version": 3,
     "solution": false,
     "task": false
    }
   },
   "outputs": [
    {
     "data": {
      "text/plain": [
       "- : unit = ()\n"
      ]
     },
     "execution_count": 4,
     "metadata": {},
     "output_type": "execute_result"
    },
    {
     "data": {
      "text/plain": [
       "- : unit = ()\n"
      ]
     },
     "execution_count": 4,
     "metadata": {},
     "output_type": "execute_result"
    },
    {
     "data": {
      "text/plain": [
       "- : unit = ()\n"
      ]
     },
     "execution_count": 4,
     "metadata": {},
     "output_type": "execute_result"
    },
    {
     "data": {
      "text/plain": [
       "- : unit = ()\n"
      ]
     },
     "execution_count": 4,
     "metadata": {},
     "output_type": "execute_result"
    },
    {
     "data": {
      "text/plain": [
       "- : unit = ()\n"
      ]
     },
     "execution_count": 4,
     "metadata": {},
     "output_type": "execute_result"
    },
    {
     "data": {
      "text/plain": [
       "- : unit = ()\n"
      ]
     },
     "execution_count": 4,
     "metadata": {},
     "output_type": "execute_result"
    }
   ],
   "source": [
    "assert(arrayoflist [] = Lf);;\n",
    "assert(arrayoflist [0] = Br (0, Lf, Lf));;\n",
    "assert(arrayoflist [0;1] = Br (0, Br (1, Lf, Lf), Lf));;\n",
    "assert(arrayoflist [0;1;2] = Br (0, Br (1, Lf, Lf), Br (2, Lf, Lf)));;\n",
    "assert(arrayoflist [0;1;2;3] = Br (0, Br (1, Br (3, Lf, Lf), Lf), Br (2, Lf, Lf)));;\n",
    "assert(arrayoflist [0;1;2;3;4;5;6;7;8;9;10;11] = Br (0,\n",
    "   Br (1, Br (3, Br (7, Lf, Lf), Br (11, Lf, Lf)),\n",
    "    Br (5, Br (9, Lf, Lf), Lf)),\n",
    "   Br (2, Br (4, Br (8, Lf, Lf), Lf), Br (6, Br (10, Lf, Lf), Lf))));;"
   ]
  },
  {
   "cell_type": "markdown",
   "metadata": {},
   "source": [
    "It may be helpful to note that the trees produced may be visualised as follows:"
   ]
  },
  {
   "cell_type": "code",
   "execution_count": 5,
   "metadata": {},
   "outputs": [
    {
     "data": {
      "image/svg+xml": [
       "<?xml version=\"1.0\" encoding=\"UTF-8\" standalone=\"no\"?>\n",
       "<!DOCTYPE svg PUBLIC \"-//W3C//DTD SVG 1.1//EN\"\n",
       " \"http://www.w3.org/Graphics/SVG/1.1/DTD/svg11.dtd\">\n",
       "<!-- Generated by graphviz version 2.43.0 (0)\n",
       " -->\n",
       "<!-- Title: D Pages: 1 -->\n",
       "<svg width=\"422pt\" height=\"260pt\"\n",
       " viewBox=\"0.00 0.00 422.00 260.00\" xmlns=\"http://www.w3.org/2000/svg\" xmlns:xlink=\"http://www.w3.org/1999/xlink\">\n",
       "<g id=\"graph0\" class=\"graph\" transform=\"scale(1 1) rotate(0) translate(4 256)\">\n",
       "<title>D</title>\n",
       "<polygon fill=\"white\" stroke=\"transparent\" points=\"-4,4 -4,-256 418,-256 418,4 -4,4\"/>\n",
       "<!-- Br0 -->\n",
       "<g id=\"node1\" class=\"node\">\n",
       "<title>Br0</title>\n",
       "<ellipse fill=\"none\" stroke=\"black\" cx=\"279\" cy=\"-234\" rx=\"27\" ry=\"18\"/>\n",
       "<text text-anchor=\"middle\" x=\"279\" y=\"-230.3\" font-family=\"Times,serif\" font-size=\"14.00\">0</text>\n",
       "</g>\n",
       "<!-- Br1 -->\n",
       "<g id=\"node2\" class=\"node\">\n",
       "<title>Br1</title>\n",
       "<ellipse fill=\"none\" stroke=\"black\" cx=\"207\" cy=\"-162\" rx=\"27\" ry=\"18\"/>\n",
       "<text text-anchor=\"middle\" x=\"207\" y=\"-158.3\" font-family=\"Times,serif\" font-size=\"14.00\">1</text>\n",
       "</g>\n",
       "<!-- Br0&#45;&gt;Br1 -->\n",
       "<g id=\"edge1\" class=\"edge\">\n",
       "<title>Br0&#45;&gt;Br1</title>\n",
       "<path fill=\"none\" stroke=\"black\" d=\"M264.43,-218.83C254.25,-208.94 240.48,-195.55 228.97,-184.36\"/>\n",
       "<polygon fill=\"black\" stroke=\"black\" points=\"231.41,-181.85 221.8,-177.38 226.53,-186.87 231.41,-181.85\"/>\n",
       "</g>\n",
       "<!-- Br2 -->\n",
       "<g id=\"node9\" class=\"node\">\n",
       "<title>Br2</title>\n",
       "<ellipse fill=\"none\" stroke=\"black\" cx=\"315\" cy=\"-162\" rx=\"27\" ry=\"18\"/>\n",
       "<text text-anchor=\"middle\" x=\"315\" y=\"-158.3\" font-family=\"Times,serif\" font-size=\"14.00\">2</text>\n",
       "</g>\n",
       "<!-- Br0&#45;&gt;Br2 -->\n",
       "<g id=\"edge8\" class=\"edge\">\n",
       "<title>Br0&#45;&gt;Br2</title>\n",
       "<path fill=\"none\" stroke=\"black\" d=\"M287.35,-216.76C291.71,-208.28 297.15,-197.71 302.04,-188.2\"/>\n",
       "<polygon fill=\"black\" stroke=\"black\" points=\"305.23,-189.64 306.7,-179.15 299.01,-186.44 305.23,-189.64\"/>\n",
       "</g>\n",
       "<!-- Br3 -->\n",
       "<g id=\"node3\" class=\"node\">\n",
       "<title>Br3</title>\n",
       "<ellipse fill=\"none\" stroke=\"black\" cx=\"99\" cy=\"-90\" rx=\"27\" ry=\"18\"/>\n",
       "<text text-anchor=\"middle\" x=\"99\" y=\"-86.3\" font-family=\"Times,serif\" font-size=\"14.00\">3</text>\n",
       "</g>\n",
       "<!-- Br1&#45;&gt;Br3 -->\n",
       "<g id=\"edge2\" class=\"edge\">\n",
       "<title>Br1&#45;&gt;Br3</title>\n",
       "<path fill=\"none\" stroke=\"black\" d=\"M188.19,-148.81C171,-137.67 145.38,-121.06 126.01,-108.5\"/>\n",
       "<polygon fill=\"black\" stroke=\"black\" points=\"127.89,-105.56 117.6,-103.05 124.08,-111.43 127.89,-105.56\"/>\n",
       "</g>\n",
       "<!-- Br4 -->\n",
       "<g id=\"node6\" class=\"node\">\n",
       "<title>Br4</title>\n",
       "<ellipse fill=\"none\" stroke=\"black\" cx=\"207\" cy=\"-90\" rx=\"27\" ry=\"18\"/>\n",
       "<text text-anchor=\"middle\" x=\"207\" y=\"-86.3\" font-family=\"Times,serif\" font-size=\"14.00\">5</text>\n",
       "</g>\n",
       "<!-- Br1&#45;&gt;Br4 -->\n",
       "<g id=\"edge5\" class=\"edge\">\n",
       "<title>Br1&#45;&gt;Br4</title>\n",
       "<path fill=\"none\" stroke=\"black\" d=\"M207,-143.7C207,-135.98 207,-126.71 207,-118.11\"/>\n",
       "<polygon fill=\"black\" stroke=\"black\" points=\"210.5,-118.1 207,-108.1 203.5,-118.1 210.5,-118.1\"/>\n",
       "</g>\n",
       "<!-- Lf7 -->\n",
       "<g id=\"node4\" class=\"node\">\n",
       "<title>Lf7</title>\n",
       "<ellipse fill=\"none\" stroke=\"black\" cx=\"27\" cy=\"-18\" rx=\"27\" ry=\"18\"/>\n",
       "<text text-anchor=\"middle\" x=\"27\" y=\"-14.3\" font-family=\"Times,serif\" font-size=\"14.00\">Lf</text>\n",
       "</g>\n",
       "<!-- Br3&#45;&gt;Lf7 -->\n",
       "<g id=\"edge3\" class=\"edge\">\n",
       "<title>Br3&#45;&gt;Lf7</title>\n",
       "<path fill=\"none\" stroke=\"black\" d=\"M84.43,-74.83C74.25,-64.94 60.48,-51.55 48.97,-40.36\"/>\n",
       "<polygon fill=\"black\" stroke=\"black\" points=\"51.41,-37.85 41.8,-33.38 46.53,-42.87 51.41,-37.85\"/>\n",
       "</g>\n",
       "<!-- Lf8 -->\n",
       "<g id=\"node5\" class=\"node\">\n",
       "<title>Lf8</title>\n",
       "<ellipse fill=\"none\" stroke=\"black\" cx=\"99\" cy=\"-18\" rx=\"27\" ry=\"18\"/>\n",
       "<text text-anchor=\"middle\" x=\"99\" y=\"-14.3\" font-family=\"Times,serif\" font-size=\"14.00\">Lf</text>\n",
       "</g>\n",
       "<!-- Br3&#45;&gt;Lf8 -->\n",
       "<g id=\"edge4\" class=\"edge\">\n",
       "<title>Br3&#45;&gt;Lf8</title>\n",
       "<path fill=\"none\" stroke=\"black\" d=\"M99,-71.7C99,-63.98 99,-54.71 99,-46.11\"/>\n",
       "<polygon fill=\"black\" stroke=\"black\" points=\"102.5,-46.1 99,-36.1 95.5,-46.1 102.5,-46.1\"/>\n",
       "</g>\n",
       "<!-- Lf9 -->\n",
       "<g id=\"node7\" class=\"node\">\n",
       "<title>Lf9</title>\n",
       "<ellipse fill=\"none\" stroke=\"black\" cx=\"171\" cy=\"-18\" rx=\"27\" ry=\"18\"/>\n",
       "<text text-anchor=\"middle\" x=\"171\" y=\"-14.3\" font-family=\"Times,serif\" font-size=\"14.00\">Lf</text>\n",
       "</g>\n",
       "<!-- Br4&#45;&gt;Lf9 -->\n",
       "<g id=\"edge6\" class=\"edge\">\n",
       "<title>Br4&#45;&gt;Lf9</title>\n",
       "<path fill=\"none\" stroke=\"black\" d=\"M198.65,-72.76C194.29,-64.28 188.85,-53.71 183.96,-44.2\"/>\n",
       "<polygon fill=\"black\" stroke=\"black\" points=\"186.99,-42.44 179.3,-35.15 180.77,-45.64 186.99,-42.44\"/>\n",
       "</g>\n",
       "<!-- Lf10 -->\n",
       "<g id=\"node8\" class=\"node\">\n",
       "<title>Lf10</title>\n",
       "<ellipse fill=\"none\" stroke=\"black\" cx=\"243\" cy=\"-18\" rx=\"27\" ry=\"18\"/>\n",
       "<text text-anchor=\"middle\" x=\"243\" y=\"-14.3\" font-family=\"Times,serif\" font-size=\"14.00\">Lf</text>\n",
       "</g>\n",
       "<!-- Br4&#45;&gt;Lf10 -->\n",
       "<g id=\"edge7\" class=\"edge\">\n",
       "<title>Br4&#45;&gt;Lf10</title>\n",
       "<path fill=\"none\" stroke=\"black\" d=\"M215.35,-72.76C219.71,-64.28 225.15,-53.71 230.04,-44.2\"/>\n",
       "<polygon fill=\"black\" stroke=\"black\" points=\"233.23,-45.64 234.7,-35.15 227.01,-42.44 233.23,-45.64\"/>\n",
       "</g>\n",
       "<!-- Br5 -->\n",
       "<g id=\"node10\" class=\"node\">\n",
       "<title>Br5</title>\n",
       "<ellipse fill=\"none\" stroke=\"black\" cx=\"315\" cy=\"-90\" rx=\"27\" ry=\"18\"/>\n",
       "<text text-anchor=\"middle\" x=\"315\" y=\"-86.3\" font-family=\"Times,serif\" font-size=\"14.00\">4</text>\n",
       "</g>\n",
       "<!-- Br2&#45;&gt;Br5 -->\n",
       "<g id=\"edge9\" class=\"edge\">\n",
       "<title>Br2&#45;&gt;Br5</title>\n",
       "<path fill=\"none\" stroke=\"black\" d=\"M315,-143.7C315,-135.98 315,-126.71 315,-118.11\"/>\n",
       "<polygon fill=\"black\" stroke=\"black\" points=\"318.5,-118.1 315,-108.1 311.5,-118.1 318.5,-118.1\"/>\n",
       "</g>\n",
       "<!-- Lf6 -->\n",
       "<g id=\"node13\" class=\"node\">\n",
       "<title>Lf6</title>\n",
       "<ellipse fill=\"none\" stroke=\"black\" cx=\"387\" cy=\"-90\" rx=\"27\" ry=\"18\"/>\n",
       "<text text-anchor=\"middle\" x=\"387\" y=\"-86.3\" font-family=\"Times,serif\" font-size=\"14.00\">Lf</text>\n",
       "</g>\n",
       "<!-- Br2&#45;&gt;Lf6 -->\n",
       "<g id=\"edge12\" class=\"edge\">\n",
       "<title>Br2&#45;&gt;Lf6</title>\n",
       "<path fill=\"none\" stroke=\"black\" d=\"M329.57,-146.83C339.75,-136.94 353.52,-123.55 365.03,-112.36\"/>\n",
       "<polygon fill=\"black\" stroke=\"black\" points=\"367.47,-114.87 372.2,-105.38 362.59,-109.85 367.47,-114.87\"/>\n",
       "</g>\n",
       "<!-- Lf11 -->\n",
       "<g id=\"node11\" class=\"node\">\n",
       "<title>Lf11</title>\n",
       "<ellipse fill=\"none\" stroke=\"black\" cx=\"315\" cy=\"-18\" rx=\"27\" ry=\"18\"/>\n",
       "<text text-anchor=\"middle\" x=\"315\" y=\"-14.3\" font-family=\"Times,serif\" font-size=\"14.00\">Lf</text>\n",
       "</g>\n",
       "<!-- Br5&#45;&gt;Lf11 -->\n",
       "<g id=\"edge10\" class=\"edge\">\n",
       "<title>Br5&#45;&gt;Lf11</title>\n",
       "<path fill=\"none\" stroke=\"black\" d=\"M315,-71.7C315,-63.98 315,-54.71 315,-46.11\"/>\n",
       "<polygon fill=\"black\" stroke=\"black\" points=\"318.5,-46.1 315,-36.1 311.5,-46.1 318.5,-46.1\"/>\n",
       "</g>\n",
       "<!-- Lf12 -->\n",
       "<g id=\"node12\" class=\"node\">\n",
       "<title>Lf12</title>\n",
       "<ellipse fill=\"none\" stroke=\"black\" cx=\"387\" cy=\"-18\" rx=\"27\" ry=\"18\"/>\n",
       "<text text-anchor=\"middle\" x=\"387\" y=\"-14.3\" font-family=\"Times,serif\" font-size=\"14.00\">Lf</text>\n",
       "</g>\n",
       "<!-- Br5&#45;&gt;Lf12 -->\n",
       "<g id=\"edge11\" class=\"edge\">\n",
       "<title>Br5&#45;&gt;Lf12</title>\n",
       "<path fill=\"none\" stroke=\"black\" d=\"M329.57,-74.83C339.75,-64.94 353.52,-51.55 365.03,-40.36\"/>\n",
       "<polygon fill=\"black\" stroke=\"black\" points=\"367.47,-42.87 372.2,-33.38 362.59,-37.85 367.47,-42.87\"/>\n",
       "</g>\n",
       "</g>\n",
       "</svg>\n"
      ]
     },
     "metadata": {},
     "output_type": "display_data"
    },
    {
     "data": {
      "text/plain": [
       "Br(0,Br(1,Br(3,Lf,Lf),Br(5,Lf,Lf)),Br(2,Br(4,Lf,Lf),Lf))"
      ]
     },
     "metadata": {},
     "output_type": "display_data"
    },
    {
     "data": {
      "text/plain": [
       "- : int tree = \n"
      ]
     },
     "execution_count": 5,
     "metadata": {},
     "output_type": "execute_result"
    },
    {
     "data": {
      "image/svg+xml": [
       "<?xml version=\"1.0\" encoding=\"UTF-8\" standalone=\"no\"?>\n",
       "<!DOCTYPE svg PUBLIC \"-//W3C//DTD SVG 1.1//EN\"\n",
       " \"http://www.w3.org/Graphics/SVG/1.1/DTD/svg11.dtd\">\n",
       "<!-- Generated by graphviz version 2.43.0 (0)\n",
       " -->\n",
       "<!-- Title: D Pages: 1 -->\n",
       "<svg width=\"710pt\" height=\"332pt\"\n",
       " viewBox=\"0.00 0.00 710.00 332.00\" xmlns=\"http://www.w3.org/2000/svg\" xmlns:xlink=\"http://www.w3.org/1999/xlink\">\n",
       "<g id=\"graph0\" class=\"graph\" transform=\"scale(1 1) rotate(0) translate(4 328)\">\n",
       "<title>D</title>\n",
       "<polygon fill=\"white\" stroke=\"transparent\" points=\"-4,4 -4,-328 706,-328 706,4 -4,4\"/>\n",
       "<!-- Br0 -->\n",
       "<g id=\"node1\" class=\"node\">\n",
       "<title>Br0</title>\n",
       "<ellipse fill=\"none\" stroke=\"black\" cx=\"459\" cy=\"-306\" rx=\"27\" ry=\"18\"/>\n",
       "<text text-anchor=\"middle\" x=\"459\" y=\"-302.3\" font-family=\"Times,serif\" font-size=\"14.00\">0</text>\n",
       "</g>\n",
       "<!-- Br1 -->\n",
       "<g id=\"node2\" class=\"node\">\n",
       "<title>Br1</title>\n",
       "<ellipse fill=\"none\" stroke=\"black\" cx=\"351\" cy=\"-234\" rx=\"27\" ry=\"18\"/>\n",
       "<text text-anchor=\"middle\" x=\"351\" y=\"-230.3\" font-family=\"Times,serif\" font-size=\"14.00\">1</text>\n",
       "</g>\n",
       "<!-- Br0&#45;&gt;Br1 -->\n",
       "<g id=\"edge1\" class=\"edge\">\n",
       "<title>Br0&#45;&gt;Br1</title>\n",
       "<path fill=\"none\" stroke=\"black\" d=\"M440.19,-292.81C423,-281.67 397.38,-265.06 378.01,-252.5\"/>\n",
       "<polygon fill=\"black\" stroke=\"black\" points=\"379.89,-249.56 369.6,-247.05 376.08,-255.43 379.89,-249.56\"/>\n",
       "</g>\n",
       "<!-- Br2 -->\n",
       "<g id=\"node15\" class=\"node\">\n",
       "<title>Br2</title>\n",
       "<ellipse fill=\"none\" stroke=\"black\" cx=\"495\" cy=\"-234\" rx=\"27\" ry=\"18\"/>\n",
       "<text text-anchor=\"middle\" x=\"495\" y=\"-230.3\" font-family=\"Times,serif\" font-size=\"14.00\">2</text>\n",
       "</g>\n",
       "<!-- Br0&#45;&gt;Br2 -->\n",
       "<g id=\"edge14\" class=\"edge\">\n",
       "<title>Br0&#45;&gt;Br2</title>\n",
       "<path fill=\"none\" stroke=\"black\" d=\"M467.35,-288.76C471.71,-280.28 477.15,-269.71 482.04,-260.2\"/>\n",
       "<polygon fill=\"black\" stroke=\"black\" points=\"485.23,-261.64 486.7,-251.15 479.01,-258.44 485.23,-261.64\"/>\n",
       "</g>\n",
       "<!-- Br3 -->\n",
       "<g id=\"node3\" class=\"node\">\n",
       "<title>Br3</title>\n",
       "<ellipse fill=\"none\" stroke=\"black\" cx=\"207\" cy=\"-162\" rx=\"27\" ry=\"18\"/>\n",
       "<text text-anchor=\"middle\" x=\"207\" y=\"-158.3\" font-family=\"Times,serif\" font-size=\"14.00\">3</text>\n",
       "</g>\n",
       "<!-- Br1&#45;&gt;Br3 -->\n",
       "<g id=\"edge2\" class=\"edge\">\n",
       "<title>Br1&#45;&gt;Br3</title>\n",
       "<path fill=\"none\" stroke=\"black\" d=\"M329.75,-222.67C305.4,-210.83 265.28,-191.33 237.57,-177.86\"/>\n",
       "<polygon fill=\"black\" stroke=\"black\" points=\"238.86,-174.6 228.33,-173.37 235.8,-180.89 238.86,-174.6\"/>\n",
       "</g>\n",
       "<!-- Br4 -->\n",
       "<g id=\"node10\" class=\"node\">\n",
       "<title>Br4</title>\n",
       "<ellipse fill=\"none\" stroke=\"black\" cx=\"351\" cy=\"-162\" rx=\"27\" ry=\"18\"/>\n",
       "<text text-anchor=\"middle\" x=\"351\" y=\"-158.3\" font-family=\"Times,serif\" font-size=\"14.00\">5</text>\n",
       "</g>\n",
       "<!-- Br1&#45;&gt;Br4 -->\n",
       "<g id=\"edge9\" class=\"edge\">\n",
       "<title>Br1&#45;&gt;Br4</title>\n",
       "<path fill=\"none\" stroke=\"black\" d=\"M351,-215.7C351,-207.98 351,-198.71 351,-190.11\"/>\n",
       "<polygon fill=\"black\" stroke=\"black\" points=\"354.5,-190.1 351,-180.1 347.5,-190.1 354.5,-190.1\"/>\n",
       "</g>\n",
       "<!-- Br7 -->\n",
       "<g id=\"node4\" class=\"node\">\n",
       "<title>Br7</title>\n",
       "<ellipse fill=\"none\" stroke=\"black\" cx=\"99\" cy=\"-90\" rx=\"27\" ry=\"18\"/>\n",
       "<text text-anchor=\"middle\" x=\"99\" y=\"-86.3\" font-family=\"Times,serif\" font-size=\"14.00\">7</text>\n",
       "</g>\n",
       "<!-- Br3&#45;&gt;Br7 -->\n",
       "<g id=\"edge3\" class=\"edge\">\n",
       "<title>Br3&#45;&gt;Br7</title>\n",
       "<path fill=\"none\" stroke=\"black\" d=\"M188.19,-148.81C171,-137.67 145.38,-121.06 126.01,-108.5\"/>\n",
       "<polygon fill=\"black\" stroke=\"black\" points=\"127.89,-105.56 117.6,-103.05 124.08,-111.43 127.89,-105.56\"/>\n",
       "</g>\n",
       "<!-- Br8 -->\n",
       "<g id=\"node7\" class=\"node\">\n",
       "<title>Br8</title>\n",
       "<ellipse fill=\"none\" stroke=\"black\" cx=\"207\" cy=\"-90\" rx=\"27\" ry=\"18\"/>\n",
       "<text text-anchor=\"middle\" x=\"207\" y=\"-86.3\" font-family=\"Times,serif\" font-size=\"14.00\">11</text>\n",
       "</g>\n",
       "<!-- Br3&#45;&gt;Br8 -->\n",
       "<g id=\"edge6\" class=\"edge\">\n",
       "<title>Br3&#45;&gt;Br8</title>\n",
       "<path fill=\"none\" stroke=\"black\" d=\"M207,-143.7C207,-135.98 207,-126.71 207,-118.11\"/>\n",
       "<polygon fill=\"black\" stroke=\"black\" points=\"210.5,-118.1 207,-108.1 203.5,-118.1 210.5,-118.1\"/>\n",
       "</g>\n",
       "<!-- Lf15 -->\n",
       "<g id=\"node5\" class=\"node\">\n",
       "<title>Lf15</title>\n",
       "<ellipse fill=\"none\" stroke=\"black\" cx=\"27\" cy=\"-18\" rx=\"27\" ry=\"18\"/>\n",
       "<text text-anchor=\"middle\" x=\"27\" y=\"-14.3\" font-family=\"Times,serif\" font-size=\"14.00\">Lf</text>\n",
       "</g>\n",
       "<!-- Br7&#45;&gt;Lf15 -->\n",
       "<g id=\"edge4\" class=\"edge\">\n",
       "<title>Br7&#45;&gt;Lf15</title>\n",
       "<path fill=\"none\" stroke=\"black\" d=\"M84.43,-74.83C74.25,-64.94 60.48,-51.55 48.97,-40.36\"/>\n",
       "<polygon fill=\"black\" stroke=\"black\" points=\"51.41,-37.85 41.8,-33.38 46.53,-42.87 51.41,-37.85\"/>\n",
       "</g>\n",
       "<!-- Lf16 -->\n",
       "<g id=\"node6\" class=\"node\">\n",
       "<title>Lf16</title>\n",
       "<ellipse fill=\"none\" stroke=\"black\" cx=\"99\" cy=\"-18\" rx=\"27\" ry=\"18\"/>\n",
       "<text text-anchor=\"middle\" x=\"99\" y=\"-14.3\" font-family=\"Times,serif\" font-size=\"14.00\">Lf</text>\n",
       "</g>\n",
       "<!-- Br7&#45;&gt;Lf16 -->\n",
       "<g id=\"edge5\" class=\"edge\">\n",
       "<title>Br7&#45;&gt;Lf16</title>\n",
       "<path fill=\"none\" stroke=\"black\" d=\"M99,-71.7C99,-63.98 99,-54.71 99,-46.11\"/>\n",
       "<polygon fill=\"black\" stroke=\"black\" points=\"102.5,-46.1 99,-36.1 95.5,-46.1 102.5,-46.1\"/>\n",
       "</g>\n",
       "<!-- Lf17 -->\n",
       "<g id=\"node8\" class=\"node\">\n",
       "<title>Lf17</title>\n",
       "<ellipse fill=\"none\" stroke=\"black\" cx=\"171\" cy=\"-18\" rx=\"27\" ry=\"18\"/>\n",
       "<text text-anchor=\"middle\" x=\"171\" y=\"-14.3\" font-family=\"Times,serif\" font-size=\"14.00\">Lf</text>\n",
       "</g>\n",
       "<!-- Br8&#45;&gt;Lf17 -->\n",
       "<g id=\"edge7\" class=\"edge\">\n",
       "<title>Br8&#45;&gt;Lf17</title>\n",
       "<path fill=\"none\" stroke=\"black\" d=\"M198.65,-72.76C194.29,-64.28 188.85,-53.71 183.96,-44.2\"/>\n",
       "<polygon fill=\"black\" stroke=\"black\" points=\"186.99,-42.44 179.3,-35.15 180.77,-45.64 186.99,-42.44\"/>\n",
       "</g>\n",
       "<!-- Lf18 -->\n",
       "<g id=\"node9\" class=\"node\">\n",
       "<title>Lf18</title>\n",
       "<ellipse fill=\"none\" stroke=\"black\" cx=\"243\" cy=\"-18\" rx=\"27\" ry=\"18\"/>\n",
       "<text text-anchor=\"middle\" x=\"243\" y=\"-14.3\" font-family=\"Times,serif\" font-size=\"14.00\">Lf</text>\n",
       "</g>\n",
       "<!-- Br8&#45;&gt;Lf18 -->\n",
       "<g id=\"edge8\" class=\"edge\">\n",
       "<title>Br8&#45;&gt;Lf18</title>\n",
       "<path fill=\"none\" stroke=\"black\" d=\"M215.35,-72.76C219.71,-64.28 225.15,-53.71 230.04,-44.2\"/>\n",
       "<polygon fill=\"black\" stroke=\"black\" points=\"233.23,-45.64 234.7,-35.15 227.01,-42.44 233.23,-45.64\"/>\n",
       "</g>\n",
       "<!-- Br9 -->\n",
       "<g id=\"node11\" class=\"node\">\n",
       "<title>Br9</title>\n",
       "<ellipse fill=\"none\" stroke=\"black\" cx=\"315\" cy=\"-90\" rx=\"27\" ry=\"18\"/>\n",
       "<text text-anchor=\"middle\" x=\"315\" y=\"-86.3\" font-family=\"Times,serif\" font-size=\"14.00\">9</text>\n",
       "</g>\n",
       "<!-- Br4&#45;&gt;Br9 -->\n",
       "<g id=\"edge10\" class=\"edge\">\n",
       "<title>Br4&#45;&gt;Br9</title>\n",
       "<path fill=\"none\" stroke=\"black\" d=\"M342.65,-144.76C338.29,-136.28 332.85,-125.71 327.96,-116.2\"/>\n",
       "<polygon fill=\"black\" stroke=\"black\" points=\"330.99,-114.44 323.3,-107.15 324.77,-117.64 330.99,-114.44\"/>\n",
       "</g>\n",
       "<!-- Lf10 -->\n",
       "<g id=\"node14\" class=\"node\">\n",
       "<title>Lf10</title>\n",
       "<ellipse fill=\"none\" stroke=\"black\" cx=\"387\" cy=\"-90\" rx=\"27\" ry=\"18\"/>\n",
       "<text text-anchor=\"middle\" x=\"387\" y=\"-86.3\" font-family=\"Times,serif\" font-size=\"14.00\">Lf</text>\n",
       "</g>\n",
       "<!-- Br4&#45;&gt;Lf10 -->\n",
       "<g id=\"edge13\" class=\"edge\">\n",
       "<title>Br4&#45;&gt;Lf10</title>\n",
       "<path fill=\"none\" stroke=\"black\" d=\"M359.35,-144.76C363.71,-136.28 369.15,-125.71 374.04,-116.2\"/>\n",
       "<polygon fill=\"black\" stroke=\"black\" points=\"377.23,-117.64 378.7,-107.15 371.01,-114.44 377.23,-117.64\"/>\n",
       "</g>\n",
       "<!-- Lf19 -->\n",
       "<g id=\"node12\" class=\"node\">\n",
       "<title>Lf19</title>\n",
       "<ellipse fill=\"none\" stroke=\"black\" cx=\"315\" cy=\"-18\" rx=\"27\" ry=\"18\"/>\n",
       "<text text-anchor=\"middle\" x=\"315\" y=\"-14.3\" font-family=\"Times,serif\" font-size=\"14.00\">Lf</text>\n",
       "</g>\n",
       "<!-- Br9&#45;&gt;Lf19 -->\n",
       "<g id=\"edge11\" class=\"edge\">\n",
       "<title>Br9&#45;&gt;Lf19</title>\n",
       "<path fill=\"none\" stroke=\"black\" d=\"M315,-71.7C315,-63.98 315,-54.71 315,-46.11\"/>\n",
       "<polygon fill=\"black\" stroke=\"black\" points=\"318.5,-46.1 315,-36.1 311.5,-46.1 318.5,-46.1\"/>\n",
       "</g>\n",
       "<!-- Lf20 -->\n",
       "<g id=\"node13\" class=\"node\">\n",
       "<title>Lf20</title>\n",
       "<ellipse fill=\"none\" stroke=\"black\" cx=\"387\" cy=\"-18\" rx=\"27\" ry=\"18\"/>\n",
       "<text text-anchor=\"middle\" x=\"387\" y=\"-14.3\" font-family=\"Times,serif\" font-size=\"14.00\">Lf</text>\n",
       "</g>\n",
       "<!-- Br9&#45;&gt;Lf20 -->\n",
       "<g id=\"edge12\" class=\"edge\">\n",
       "<title>Br9&#45;&gt;Lf20</title>\n",
       "<path fill=\"none\" stroke=\"black\" d=\"M329.57,-74.83C339.75,-64.94 353.52,-51.55 365.03,-40.36\"/>\n",
       "<polygon fill=\"black\" stroke=\"black\" points=\"367.47,-42.87 372.2,-33.38 362.59,-37.85 367.47,-42.87\"/>\n",
       "</g>\n",
       "<!-- Br5 -->\n",
       "<g id=\"node16\" class=\"node\">\n",
       "<title>Br5</title>\n",
       "<ellipse fill=\"none\" stroke=\"black\" cx=\"495\" cy=\"-162\" rx=\"27\" ry=\"18\"/>\n",
       "<text text-anchor=\"middle\" x=\"495\" y=\"-158.3\" font-family=\"Times,serif\" font-size=\"14.00\">4</text>\n",
       "</g>\n",
       "<!-- Br2&#45;&gt;Br5 -->\n",
       "<g id=\"edge15\" class=\"edge\">\n",
       "<title>Br2&#45;&gt;Br5</title>\n",
       "<path fill=\"none\" stroke=\"black\" d=\"M495,-215.7C495,-207.98 495,-198.71 495,-190.11\"/>\n",
       "<polygon fill=\"black\" stroke=\"black\" points=\"498.5,-190.1 495,-180.1 491.5,-190.1 498.5,-190.1\"/>\n",
       "</g>\n",
       "<!-- Br6 -->\n",
       "<g id=\"node21\" class=\"node\">\n",
       "<title>Br6</title>\n",
       "<ellipse fill=\"none\" stroke=\"black\" cx=\"603\" cy=\"-162\" rx=\"27\" ry=\"18\"/>\n",
       "<text text-anchor=\"middle\" x=\"603\" y=\"-158.3\" font-family=\"Times,serif\" font-size=\"14.00\">6</text>\n",
       "</g>\n",
       "<!-- Br2&#45;&gt;Br6 -->\n",
       "<g id=\"edge20\" class=\"edge\">\n",
       "<title>Br2&#45;&gt;Br6</title>\n",
       "<path fill=\"none\" stroke=\"black\" d=\"M513.81,-220.81C531,-209.67 556.62,-193.06 575.99,-180.5\"/>\n",
       "<polygon fill=\"black\" stroke=\"black\" points=\"577.92,-183.43 584.4,-175.05 574.11,-177.56 577.92,-183.43\"/>\n",
       "</g>\n",
       "<!-- Br11 -->\n",
       "<g id=\"node17\" class=\"node\">\n",
       "<title>Br11</title>\n",
       "<ellipse fill=\"none\" stroke=\"black\" cx=\"459\" cy=\"-90\" rx=\"27\" ry=\"18\"/>\n",
       "<text text-anchor=\"middle\" x=\"459\" y=\"-86.3\" font-family=\"Times,serif\" font-size=\"14.00\">8</text>\n",
       "</g>\n",
       "<!-- Br5&#45;&gt;Br11 -->\n",
       "<g id=\"edge16\" class=\"edge\">\n",
       "<title>Br5&#45;&gt;Br11</title>\n",
       "<path fill=\"none\" stroke=\"black\" d=\"M486.65,-144.76C482.29,-136.28 476.85,-125.71 471.96,-116.2\"/>\n",
       "<polygon fill=\"black\" stroke=\"black\" points=\"474.99,-114.44 467.3,-107.15 468.77,-117.64 474.99,-114.44\"/>\n",
       "</g>\n",
       "<!-- Lf12 -->\n",
       "<g id=\"node20\" class=\"node\">\n",
       "<title>Lf12</title>\n",
       "<ellipse fill=\"none\" stroke=\"black\" cx=\"531\" cy=\"-90\" rx=\"27\" ry=\"18\"/>\n",
       "<text text-anchor=\"middle\" x=\"531\" y=\"-86.3\" font-family=\"Times,serif\" font-size=\"14.00\">Lf</text>\n",
       "</g>\n",
       "<!-- Br5&#45;&gt;Lf12 -->\n",
       "<g id=\"edge19\" class=\"edge\">\n",
       "<title>Br5&#45;&gt;Lf12</title>\n",
       "<path fill=\"none\" stroke=\"black\" d=\"M503.35,-144.76C507.71,-136.28 513.15,-125.71 518.04,-116.2\"/>\n",
       "<polygon fill=\"black\" stroke=\"black\" points=\"521.23,-117.64 522.7,-107.15 515.01,-114.44 521.23,-117.64\"/>\n",
       "</g>\n",
       "<!-- Lf23 -->\n",
       "<g id=\"node18\" class=\"node\">\n",
       "<title>Lf23</title>\n",
       "<ellipse fill=\"none\" stroke=\"black\" cx=\"459\" cy=\"-18\" rx=\"27\" ry=\"18\"/>\n",
       "<text text-anchor=\"middle\" x=\"459\" y=\"-14.3\" font-family=\"Times,serif\" font-size=\"14.00\">Lf</text>\n",
       "</g>\n",
       "<!-- Br11&#45;&gt;Lf23 -->\n",
       "<g id=\"edge17\" class=\"edge\">\n",
       "<title>Br11&#45;&gt;Lf23</title>\n",
       "<path fill=\"none\" stroke=\"black\" d=\"M459,-71.7C459,-63.98 459,-54.71 459,-46.11\"/>\n",
       "<polygon fill=\"black\" stroke=\"black\" points=\"462.5,-46.1 459,-36.1 455.5,-46.1 462.5,-46.1\"/>\n",
       "</g>\n",
       "<!-- Lf24 -->\n",
       "<g id=\"node19\" class=\"node\">\n",
       "<title>Lf24</title>\n",
       "<ellipse fill=\"none\" stroke=\"black\" cx=\"531\" cy=\"-18\" rx=\"27\" ry=\"18\"/>\n",
       "<text text-anchor=\"middle\" x=\"531\" y=\"-14.3\" font-family=\"Times,serif\" font-size=\"14.00\">Lf</text>\n",
       "</g>\n",
       "<!-- Br11&#45;&gt;Lf24 -->\n",
       "<g id=\"edge18\" class=\"edge\">\n",
       "<title>Br11&#45;&gt;Lf24</title>\n",
       "<path fill=\"none\" stroke=\"black\" d=\"M473.57,-74.83C483.75,-64.94 497.52,-51.55 509.03,-40.36\"/>\n",
       "<polygon fill=\"black\" stroke=\"black\" points=\"511.47,-42.87 516.2,-33.38 506.59,-37.85 511.47,-42.87\"/>\n",
       "</g>\n",
       "<!-- Br13 -->\n",
       "<g id=\"node22\" class=\"node\">\n",
       "<title>Br13</title>\n",
       "<ellipse fill=\"none\" stroke=\"black\" cx=\"603\" cy=\"-90\" rx=\"27\" ry=\"18\"/>\n",
       "<text text-anchor=\"middle\" x=\"603\" y=\"-86.3\" font-family=\"Times,serif\" font-size=\"14.00\">10</text>\n",
       "</g>\n",
       "<!-- Br6&#45;&gt;Br13 -->\n",
       "<g id=\"edge21\" class=\"edge\">\n",
       "<title>Br6&#45;&gt;Br13</title>\n",
       "<path fill=\"none\" stroke=\"black\" d=\"M603,-143.7C603,-135.98 603,-126.71 603,-118.11\"/>\n",
       "<polygon fill=\"black\" stroke=\"black\" points=\"606.5,-118.1 603,-108.1 599.5,-118.1 606.5,-118.1\"/>\n",
       "</g>\n",
       "<!-- Lf14 -->\n",
       "<g id=\"node25\" class=\"node\">\n",
       "<title>Lf14</title>\n",
       "<ellipse fill=\"none\" stroke=\"black\" cx=\"675\" cy=\"-90\" rx=\"27\" ry=\"18\"/>\n",
       "<text text-anchor=\"middle\" x=\"675\" y=\"-86.3\" font-family=\"Times,serif\" font-size=\"14.00\">Lf</text>\n",
       "</g>\n",
       "<!-- Br6&#45;&gt;Lf14 -->\n",
       "<g id=\"edge24\" class=\"edge\">\n",
       "<title>Br6&#45;&gt;Lf14</title>\n",
       "<path fill=\"none\" stroke=\"black\" d=\"M617.57,-146.83C627.75,-136.94 641.52,-123.55 653.03,-112.36\"/>\n",
       "<polygon fill=\"black\" stroke=\"black\" points=\"655.47,-114.87 660.2,-105.38 650.59,-109.85 655.47,-114.87\"/>\n",
       "</g>\n",
       "<!-- Lf27 -->\n",
       "<g id=\"node23\" class=\"node\">\n",
       "<title>Lf27</title>\n",
       "<ellipse fill=\"none\" stroke=\"black\" cx=\"603\" cy=\"-18\" rx=\"27\" ry=\"18\"/>\n",
       "<text text-anchor=\"middle\" x=\"603\" y=\"-14.3\" font-family=\"Times,serif\" font-size=\"14.00\">Lf</text>\n",
       "</g>\n",
       "<!-- Br13&#45;&gt;Lf27 -->\n",
       "<g id=\"edge22\" class=\"edge\">\n",
       "<title>Br13&#45;&gt;Lf27</title>\n",
       "<path fill=\"none\" stroke=\"black\" d=\"M603,-71.7C603,-63.98 603,-54.71 603,-46.11\"/>\n",
       "<polygon fill=\"black\" stroke=\"black\" points=\"606.5,-46.1 603,-36.1 599.5,-46.1 606.5,-46.1\"/>\n",
       "</g>\n",
       "<!-- Lf28 -->\n",
       "<g id=\"node24\" class=\"node\">\n",
       "<title>Lf28</title>\n",
       "<ellipse fill=\"none\" stroke=\"black\" cx=\"675\" cy=\"-18\" rx=\"27\" ry=\"18\"/>\n",
       "<text text-anchor=\"middle\" x=\"675\" y=\"-14.3\" font-family=\"Times,serif\" font-size=\"14.00\">Lf</text>\n",
       "</g>\n",
       "<!-- Br13&#45;&gt;Lf28 -->\n",
       "<g id=\"edge23\" class=\"edge\">\n",
       "<title>Br13&#45;&gt;Lf28</title>\n",
       "<path fill=\"none\" stroke=\"black\" d=\"M617.57,-74.83C627.75,-64.94 641.52,-51.55 653.03,-40.36\"/>\n",
       "<polygon fill=\"black\" stroke=\"black\" points=\"655.47,-42.87 660.2,-33.38 650.59,-37.85 655.47,-42.87\"/>\n",
       "</g>\n",
       "</g>\n",
       "</svg>\n"
      ]
     },
     "metadata": {},
     "output_type": "display_data"
    },
    {
     "data": {
      "text/plain": [
       "Br(0,Br(1,Br(3,Br(7,Lf,Lf),Br(11,Lf,Lf)),Br(5,Br(9,Lf,Lf),Lf)),Br(2,Br(4,Br(8,Lf,Lf),Lf),Br(6,Br(10,Lf,Lf),Lf)))"
      ]
     },
     "metadata": {},
     "output_type": "display_data"
    },
    {
     "data": {
      "text/plain": [
       "- : int tree = \n"
      ]
     },
     "execution_count": 5,
     "metadata": {},
     "output_type": "execute_result"
    }
   ],
   "source": [
    "Br(0,Br(1,Br(3,Lf,Lf),Br(5,Lf,Lf)),Br(2,Br(4,Lf,Lf),Lf));;\n",
    "arrayoflist [0;1;2;3;4;5;6;7;8;9;10;11];;"
   ]
  },
  {
   "cell_type": "markdown",
   "metadata": {},
   "source": [
    "2. Code a function listofarray, the inverse of the function arrayoflist declared above."
   ]
  },
  {
   "cell_type": "code",
   "execution_count": 6,
   "metadata": {
    "deletable": false,
    "nbgrader": {
     "cell_type": "code",
     "checksum": "f5693e96e23b6674e172b82dad1e9012",
     "grade": false,
     "grade_id": "cell-0774a5f2de16c694",
     "locked": false,
     "schema_version": 3,
     "solution": true,
     "task": false
    }
   },
   "outputs": [
    {
     "name": "stderr",
     "output_type": "stream",
     "text": [
      "File \"[6]\", lines 1-2, characters 10-22:\n",
      "1 | ..........function\n",
      "2 |     | Br(v, _, _) -> v\n",
      "Warning 8 [partial-match]: this pattern-matching is not exhaustive.\n",
      "Here is an example of a case that is not matched:\n",
      "Lf\n"
     ]
    },
    {
     "data": {
      "text/plain": [
       "val thd : 'a tree -> 'a = <fun>\n"
      ]
     },
     "execution_count": 6,
     "metadata": {},
     "output_type": "execute_result"
    },
    {
     "name": "stderr",
     "output_type": "stream",
     "text": [
      "File \"[6]\", lines 4-6, characters 14-47:\n",
      "4 | ..............function\n",
      "5 |     | Br(v, Lf, Lf) -> Lf\n",
      "6 |     | Br(v, t1, t2) -> Br((thd t1), t2, ttl t1)\n",
      "Warning 8 [partial-match]: this pattern-matching is not exhaustive.\n",
      "Here is an example of a case that is not matched:\n",
      "Lf\n"
     ]
    },
    {
     "data": {
      "text/plain": [
       "val ttl : 'a tree -> 'a tree = <fun>\n"
      ]
     },
     "execution_count": 6,
     "metadata": {},
     "output_type": "execute_result"
    },
    {
     "data": {
      "text/plain": [
       "val listofarray : 'a tree -> 'a list = <fun>\n"
      ]
     },
     "execution_count": 6,
     "metadata": {},
     "output_type": "execute_result"
    }
   ],
   "source": [
    "let thd = function\n",
    "    | Br(v, _, _) -> v\n",
    "\n",
    "let rec ttl = function\n",
    "    | Br(v, Lf, Lf) -> Lf\n",
    "    | Br(v, t1, t2) -> Br((thd t1), t2, ttl t1)\n",
    "    \n",
    "\n",
    "let rec listofarray = function\n",
    "    | Lf -> []\n",
    "    | x -> (thd x) :: (listofarray (ttl x))\n",
    "    "
   ]
  },
  {
   "cell_type": "markdown",
   "metadata": {},
   "source": [
    "The following is a test of `listofarray`. As before, there is no need to understand in detail what is going on here."
   ]
  },
  {
   "cell_type": "code",
   "execution_count": 7,
   "metadata": {
    "deletable": false,
    "editable": false,
    "nbgrader": {
     "cell_type": "code",
     "checksum": "33121abe130a23472df9ab61653ee955",
     "grade": true,
     "grade_id": "cell-4cedb1a643766416",
     "locked": true,
     "points": 1,
     "schema_version": 3,
     "solution": false,
     "task": false
    }
   },
   "outputs": [
    {
     "data": {
      "text/plain": [
       "Test case : []\n",
       "Tree.     : Lf\n",
       "Final list: []"
      ]
     },
     "metadata": {},
     "output_type": "display_data"
    },
    {
     "data": {
      "text/plain": [
       "Test case : [0]\n",
       "Tree.     : Br(0,Lf,Lf)\n",
       "Final list: [0]"
      ]
     },
     "metadata": {},
     "output_type": "display_data"
    },
    {
     "data": {
      "text/plain": [
       "Test case : [7;6;5]\n",
       "Tree.     : Br(7,Br(6,Lf,Lf),Br(5,Lf,Lf))\n",
       "Final list: [7;6;5]"
      ]
     },
     "metadata": {},
     "output_type": "display_data"
    },
    {
     "data": {
      "text/plain": [
       "Test case : [9;8;7;6;5;4;3;2;1;0]\n",
       "Tree.     : Br(9,Br(8,Br(6,Br(2,Lf,Lf),Lf),Br(4,Br(0,Lf,Lf),Lf)),Br(7,Br(5,Br(1,Lf,Lf),Lf),Br(3,Lf,Lf)))\n",
       "Final list: [9;8;7;6;5;4;3;2;1;0]"
      ]
     },
     "metadata": {},
     "output_type": "display_data"
    },
    {
     "data": {
      "text/plain": [
       "Test case : [0;1;2;3;4;5;6;7;8;9]\n",
       "Tree.     : Br(0,Br(1,Br(3,Br(7,Lf,Lf),Lf),Br(5,Br(9,Lf,Lf),Lf)),Br(2,Br(4,Br(8,Lf,Lf),Lf),Br(6,Lf,Lf)))\n",
       "Final list: [0;1;2;3;4;5;6;7;8;9]"
      ]
     },
     "metadata": {},
     "output_type": "display_data"
    },
    {
     "data": {
      "text/plain": [
       "Test case : [1;1;1;1;1;1;1;1;1;1]\n",
       "Tree.     : Br(1,Br(1,Br(1,Br(1,Lf,Lf),Lf),Br(1,Br(1,Lf,Lf),Lf)),Br(1,Br(1,Br(1,Lf,Lf),Lf),Br(1,Lf,Lf)))\n",
       "Final list: [1;1;1;1;1;1;1;1;1;1]"
      ]
     },
     "metadata": {},
     "output_type": "display_data"
    },
    {
     "data": {
      "text/plain": [
       "- : unit = ()\n"
      ]
     },
     "execution_count": 7,
     "metadata": {},
     "output_type": "execute_result"
    }
   ],
   "source": [
    "let _ =\n",
    "    let test_cases = [\n",
    "        [];\n",
    "        [0];\n",
    "        [7;6;5];\n",
    "        [9;8;7;6;5;4;3;2;1;0];\n",
    "        [0;1;2;3;4;5;6;7;8;9];\n",
    "        [1;1;1;1;1;1;1;1;1;1]\n",
    "    ] in\n",
    "    let test_results = List.map (fun a ->\n",
    "        let orig_list_str = String.concat \";\" (List.map string_of_int a) in\n",
    "        let arr = arrayoflist a in\n",
    "        let arr_str = Focs.Tree.string_of string_of_int arr in\n",
    "        let a' = listofarray arr in\n",
    "        let final_list_str = String.concat \";\" (List.map string_of_int a') in\n",
    "        (orig_list_str, arr_str, final_list_str)) test_cases in\n",
    "    List.iter (fun (o,a,f) ->\n",
    "        let _ = Jupyter_notebook.display \"text/plain\"\n",
    "            (Printf.sprintf\n",
    "                \"Test case : [%s]\\nTree.     : %s\\nFinal list: [%s]\"\n",
    "                o a f) in\n",
    "        assert(o=f)) test_results\n"
   ]
  },
  {
   "cell_type": "markdown",
   "metadata": {},
   "source": [
    "3. Code a function `getSubsOfEvens`, to find out which elements of an array of integers are even, returning the corresponding *subscript positions* (not the even array elements themselves) as an *increasing* list\n",
    "\n",
    "For example, `getSubsOfEvens (arrayoflist [4;2;3;4])` should return `[1; 2; 4]` to indicate that these three designated array elements, and no others, are even (note we adopt the convention that the first element in the tree is subscript 1 not 0)"
   ]
  },
  {
   "cell_type": "code",
   "execution_count": 8,
   "metadata": {
    "deletable": false,
    "nbgrader": {
     "cell_type": "code",
     "checksum": "791854b987cbaa5416b7b66c92c63626",
     "grade": false,
     "grade_id": "cell-2f2b44de02871087",
     "locked": false,
     "schema_version": 3,
     "solution": true,
     "task": false
    }
   },
   "outputs": [
    {
     "name": "stderr",
     "output_type": "stream",
     "text": [
      "File \"[8]\", lines 1-2, characters 10-22:\n",
      "1 | ..........function\n",
      "2 |     | Br(v, _, _) -> v\n",
      "Warning 8 [partial-match]: this pattern-matching is not exhaustive.\n",
      "Here is an example of a case that is not matched:\n",
      "Lf\n"
     ]
    },
    {
     "data": {
      "text/plain": [
       "val thd : 'a tree -> 'a = <fun>\n"
      ]
     },
     "execution_count": 8,
     "metadata": {},
     "output_type": "execute_result"
    },
    {
     "name": "stderr",
     "output_type": "stream",
     "text": [
      "File \"[8]\", lines 4-6, characters 14-47:\n",
      "4 | ..............function\n",
      "5 |     | Br(v, Lf, Lf) -> Lf\n",
      "6 |     | Br(v, t1, t2) -> Br((thd t1), t2, ttl t1)\n",
      "Warning 8 [partial-match]: this pattern-matching is not exhaustive.\n",
      "Here is an example of a case that is not matched:\n",
      "Lf\n"
     ]
    },
    {
     "data": {
      "text/plain": [
       "val ttl : 'a tree -> 'a tree = <fun>\n"
      ]
     },
     "execution_count": 8,
     "metadata": {},
     "output_type": "execute_result"
    },
    {
     "data": {
      "text/plain": [
       "val getSubsOfEvens : int tree -> int list = <fun>\n"
      ]
     },
     "execution_count": 8,
     "metadata": {},
     "output_type": "execute_result"
    }
   ],
   "source": [
    "let thd = function\n",
    "    | Br(v, _, _) -> v\n",
    "\n",
    "let rec ttl = function\n",
    "    | Br(v, Lf, Lf) -> Lf\n",
    "    | Br(v, t1, t2) -> Br((thd t1), t2, ttl t1)\n",
    "\n",
    "let getSubsOfEvens l = \n",
    "    let rec hlp l i = match l with\n",
    "        | Lf -> []\n",
    "        | x when (thd x mod 2 = 0) -> i :: hlp (ttl x) (i+1)\n",
    "        | x -> hlp (ttl x) (i+1)\n",
    "    in hlp l 1\n",
    "    "
   ]
  },
  {
   "cell_type": "markdown",
   "metadata": {},
   "source": [
    "The following cell contains the tests of `getSubsOfEvens`"
   ]
  },
  {
   "cell_type": "code",
   "execution_count": 9,
   "metadata": {
    "deletable": false,
    "editable": false,
    "nbgrader": {
     "cell_type": "code",
     "checksum": "fe78f6f2e989ffbeab902383825bc15b",
     "grade": true,
     "grade_id": "cell-3cd4f3ba2a3cf484",
     "locked": true,
     "points": 1,
     "schema_version": 3,
     "solution": false,
     "task": false
    }
   },
   "outputs": [
    {
     "data": {
      "text/plain": [
       "- : unit = ()\n"
      ]
     },
     "execution_count": 9,
     "metadata": {},
     "output_type": "execute_result"
    },
    {
     "data": {
      "text/plain": [
       "- : unit = ()\n"
      ]
     },
     "execution_count": 9,
     "metadata": {},
     "output_type": "execute_result"
    }
   ],
   "source": [
    "assert(getSubsOfEvens (arrayoflist [4;2;3;4]) = [1;2;4]);;\n",
    "assert(getSubsOfEvens (arrayoflist [4;2;3;4;5;4;5;4;5;4;5;4;4]) = [1; 2; 4; 6; 8; 10; 12; 13]);;"
   ]
  },
  {
   "cell_type": "code",
   "execution_count": null,
   "metadata": {},
   "outputs": [],
   "source": []
  }
 ],
 "metadata": {
  "kernelspec": {
   "display_name": "OCaml 4.14",
   "language": "OCaml",
   "name": "ocaml-jupyter"
  },
  "language_info": {
   "codemirror_mode": "text/x-ocaml",
   "file_extension": ".ml",
   "mimetype": "text/x-ocaml",
   "name": "OCaml",
   "nbconverter_exporter": null,
   "pygments_lexer": "OCaml",
   "version": "4.14.1"
  }
 },
 "nbformat": 4,
 "nbformat_minor": 2
}
