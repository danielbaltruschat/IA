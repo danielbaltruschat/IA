{
 "cells": [
  {
   "cell_type": "markdown",
   "metadata": {},
   "source": [
    "Before you submit this tick, make sure everything runs as expected. First, **save your work** (in the menubar, select File$\\rightarrow$Save and Checkpoint). Then **restart the kernel** (in the menubar, select Kernel$\\rightarrow$Restart) and then **run all cells** (in the menubar, select Cell$\\rightarrow$Run All).\n",
    "\n",
    "Make sure you fill in any place that says `YOUR CODE HERE` or \"YOUR ANSWER HERE\", and remove any instances of `failwith \"Not implemented\";;`\n"
   ]
  },
  {
   "cell_type": "markdown",
   "metadata": {},
   "source": [
    "---"
   ]
  },
  {
   "cell_type": "code",
   "execution_count": 2,
   "metadata": {},
   "outputs": [],
   "source": [
    "#require \"focs\";;"
   ]
  },
  {
   "cell_type": "markdown",
   "metadata": {},
   "source": [
    "# FoCS Tick 5: A Tiny Graphics Package (Vacation)\n",
    "\n",
    "*This exercise is compulsory for CST candidates. Although optional for NST or PBS students, it is recommended for experience.*\n",
    "\n",
    "Portable pixmap format (PPM) is an extremely simple image file format, where an image of a specified width $w$ and height $h$ is given by a text file containing $h$ lines, each $w$ pixels across. Each pixel is specified by three integers according to the RGB colour model. Each integer ranges from 0 to 255. Here are a few representative examples:\n",
    "\n",
    "| R   |   G |   B | Colour    |\n",
    "|-----|-----|-----|-----------|\n",
    "| 0   |   0 |   0 | Black     |\n",
    "| 255 |   0 |   0 | Red       |\n",
    "| 0   | 255 |   0 | Green     |\n",
    "| 0   |   0 | 255 | Blue      |\n",
    "| 255 | 255 | 0   | Yellow    |\n",
    "| 255 |   0 | 255 | Magenta   |\n",
    "| 0   | 255 | 255 | Cyan      |\n",
    "| 255 | 255 | 255 | White     |  \n",
    "| 100 | 100 | 100 |  Dark Grey|\n",
    "| 200 | 200 | 200 | Light Grey|\n",
    "\n",
    "A valid PPM file has a 3 line header: the word `P3` on the first; the width and height in pixels on the second; and the maximum pixel value (`255` here) on the third. Thereafter each line represents a row of pixels. Spaces are used to separate colour values and pixels. Here is an example for a very small (3x3) file that has all nine pixels set to $(1, 10, 100)$:\n",
    "\n",
    "```\n",
    "P3\n",
    "3 3\n",
    "255\n",
    "   1  10 100   1  10 100   1  10 100\n",
    "   1  10 100   1  10 100   1  10 100\n",
    "   1  10 100   1  10 100   1  10 100\n",
    "```\n",
    "\n",
    "Although not strictly required, the values in this example are formatted in blocks of four characters, which helps when visually inspecting the file (the numbers align). So, `1` gets three padding spaces, `10` gets two, etc. Because the maximum value is `255`, there is never a complete block of four and the data for one pixel just follows straight after the data for the last (i.e. no further spacing added). The code you write in this tick should produce files with this same padding. Note that the file should end on a blank line (i.e. every line with text should end with a new line).\n",
    "\n",
    "The task is to represent such images using OCaml arrays and to implement some operations on them. You must use the following types:"
   ]
  },
  {
   "cell_type": "code",
   "execution_count": 3,
   "metadata": {},
   "outputs": [
    {
     "data": {
      "text/plain": [
       "type colour = int * int * int\n"
      ]
     },
     "execution_count": 3,
     "metadata": {},
     "output_type": "execute_result"
    },
    {
     "data": {
      "text/plain": [
       "type xy = int * int\n"
      ]
     },
     "execution_count": 3,
     "metadata": {},
     "output_type": "execute_result"
    },
    {
     "data": {
      "text/plain": [
       "type image = Image of xy * colour array array\n"
      ]
     },
     "execution_count": 3,
     "metadata": {},
     "output_type": "execute_result"
    },
    {
     "data": {
      "text/plain": [
       "val getPixel : int * int -> image -> colour = <fun>\n"
      ]
     },
     "execution_count": 3,
     "metadata": {},
     "output_type": "execute_result"
    }
   ],
   "source": [
    "type colour = int * int * int (* RGB colour components, 0..255 *)\n",
    "type xy = int * int (* points (x,y) and sizes (w,h) *)\n",
    "type image = Image of xy * colour array array\n",
    "let getPixel (x,y) (Image (_,arr)) = arr.(y).(x);;"
   ]
  },
  {
   "cell_type": "markdown",
   "metadata": {},
   "source": [
    "1. Implement OCaml functions `image`, `size` and `drawPixel` as follows:\n",
    "\n",
    "   - The function `image`, given a dimension $w \\times h$, should create an OCaml array consisting of `h` elements\n",
    "     to represent the rows, where each row is itself an OCaml array consisting out of `w` elements of type colour.\n",
    "     Each pixel should be given the supplied colour. Remember that arrays are mutable objects, so each row needs\n",
    "     to be a distinct array; you may find the function Array.create useful for this.\n",
    "\n",
    "   - The function `size` should return the dimensions of the given image as a pair $(w, h)$.\n",
    " \n",
    "   - The function `drawPixel`, given a specified image, sets a pixel to the specified color at the given $(x, y)$\n",
    "     position. Here $0 ≤ x < w$ and $0 ≤ y < h$.\n",
    "  "
   ]
  },
  {
   "cell_type": "code",
   "execution_count": null,
   "metadata": {},
   "outputs": [],
   "source": []
  },
  {
   "cell_type": "code",
   "execution_count": 35,
   "metadata": {
    "deletable": false,
    "nbgrader": {
     "cell_type": "code",
     "checksum": "d21d4cc7377c8e783dc886cbfada7aa3",
     "grade": false,
     "grade_id": "cell-9f0491e94d972c34",
     "locked": false,
     "schema_version": 3,
     "solution": true,
     "task": false
    }
   },
   "outputs": [
    {
     "data": {
      "text/plain": [
       "val image : int * int -> colour -> image = <fun>\n"
      ]
     },
     "execution_count": 35,
     "metadata": {},
     "output_type": "execute_result"
    },
    {
     "data": {
      "text/plain": [
       "val size : image -> xy = <fun>\n"
      ]
     },
     "execution_count": 35,
     "metadata": {},
     "output_type": "execute_result"
    },
    {
     "data": {
      "text/plain": [
       "val drawPixel : int * int -> colour -> image -> unit = <fun>\n"
      ]
     },
     "execution_count": 35,
     "metadata": {},
     "output_type": "execute_result"
    }
   ],
   "source": [
    "let image (w,h) c =\n",
    "    Image ((w,h), Array.init h (fun _ -> Array.make w c))\n",
    "\n",
    "let size img = match img with\n",
    "    Image (dim, _) -> dim\n",
    "\n",
    "let drawPixel (x,y) c img = match img with\n",
    "    Image (_, arr) -> Array.set (Array.get arr y) x c"
   ]
  },
  {
   "cell_type": "code",
   "execution_count": 36,
   "metadata": {
    "deletable": false,
    "editable": false,
    "nbgrader": {
     "cell_type": "code",
     "checksum": "54713b78b63d1b20e0fb3ed9557fec37",
     "grade": true,
     "grade_id": "cell-b028605dfadee95f",
     "locked": true,
     "points": 1,
     "schema_version": 3,
     "solution": false,
     "task": false
    }
   },
   "outputs": [
    {
     "data": {
      "image/png": "[encoded data removed]"
     },
     "metadata": {},
     "output_type": "display_data"
    },
    {
     "data": {
      "text/plain": [
       "val i : image = \n"
      ]
     },
     "execution_count": 36,
     "metadata": {},
     "output_type": "execute_result"
    },
    {
     "data": {
      "text/plain": [
       "- : unit = ()\n"
      ]
     },
     "execution_count": 36,
     "metadata": {},
     "output_type": "execute_result"
    },
    {
     "data": {
      "text/plain": [
       "- : unit = ()\n"
      ]
     },
     "execution_count": 36,
     "metadata": {},
     "output_type": "execute_result"
    },
    {
     "data": {
      "text/plain": [
       "- : unit = ()\n"
      ]
     },
     "execution_count": 36,
     "metadata": {},
     "output_type": "execute_result"
    }
   ],
   "source": [
    "let i = image (10,10) (0,0,0);;\n",
    "assert(size i = (10,10));;\n",
    "drawPixel (3,2) (10,10,10) i;;\n",
    "assert(getPixel (3,2) i = (10,10,10));;"
   ]
  },
  {
   "cell_type": "markdown",
   "metadata": {},
   "source": [
    "2. Implement a function `toPPM` to convert an `image` into a string containing the PPM representation. You may find `Array.iter` helpful; it applies a given function to every element of an array. Print rows of the image in order. (This means that increasing values of y refer to pixels further down, not up as you would expect with Cartesian coordinates.) The skeleton code below works by creating a mutable `Buffer`, appending strings to it using `bprintf`, and finally getting the contents back as a string via `Buffer.contents`. You may find it useful to refer to the documentation of `printf` available [here](https://caml.inria.fr/pub/docs/manual-ocaml/libref/Printf.html). For example, to pad the red, green and blue colour values to 4 spaces, use the format string `\"% 4d\"`."
   ]
  },
  {
   "cell_type": "code",
   "execution_count": 15,
   "metadata": {
    "deletable": false,
    "nbgrader": {
     "cell_type": "code",
     "checksum": "6969ad850a10278b1e0789609852132c",
     "grade": false,
     "grade_id": "cell-696f44bb89acef3b",
     "locked": false,
     "schema_version": 3,
     "solution": true,
     "task": false
    }
   },
   "outputs": [
    {
     "data": {
      "text/plain": [
       "val toPPM : image -> string = <fun>\n"
      ]
     },
     "execution_count": 15,
     "metadata": {},
     "output_type": "execute_result"
    }
   ],
   "source": [
    "let toPPM = function\n",
    "    | Image (xy,pixels) ->\n",
    "        let buf = Buffer.create 1000 in\n",
    "        Printf.bprintf buf \"P3\\n\";\n",
    "        match xy with (x,y) -> Printf.bprintf buf \"%d %d\\n\" x y;\n",
    "        Printf.bprintf buf \"255\\n\";\n",
    "        Array.iter (fun arr -> Array.iter (fun (r,g,b) -> Printf.bprintf buf \"% 4d% 4d% 4d\" r g b) arr; Printf.bprintf buf \"\\n\") pixels;\n",
    "        Buffer.contents buf"
   ]
  },
  {
   "cell_type": "markdown",
   "metadata": {},
   "source": [
    "To verify your code is producing the correct output, use the following test:"
   ]
  },
  {
   "cell_type": "code",
   "execution_count": 16,
   "metadata": {
    "deletable": false,
    "editable": false,
    "nbgrader": {
     "cell_type": "code",
     "checksum": "d827ee49a158b15855add88b5bd676d6",
     "grade": true,
     "grade_id": "cell-99c68b69f384e387",
     "locked": true,
     "points": 1,
     "schema_version": 3,
     "solution": false,
     "task": false
    }
   },
   "outputs": [
    {
     "data": {
      "text/plain": [
       "val i : image =\n",
       "  Image ((3, 3),\n",
       "   [|[|(1, 10, 100); (1, 10, 100); (1, 10, 100)|];\n",
       "     [|(1, 10, 100); (1, 10, 100); (1, 10, 100)|];\n",
       "     [|(1, 10, 100); (1, 10, 100); (1, 10, 100)|]|])\n"
      ]
     },
     "execution_count": 16,
     "metadata": {},
     "output_type": "execute_result"
    },
    {
     "data": {
      "text/plain": [
       "val str : string =\n",
       "  \"P3\\n3 3\\n255\\n   1  10 100   1  10 100   1  10 100\\n   1  10 100   1  10 100   1  10 100\\n   1  10 100   1  10 100   1  10 100\\n\"\n"
      ]
     },
     "execution_count": 16,
     "metadata": {},
     "output_type": "execute_result"
    },
    {
     "data": {
      "text/plain": [
       "val expected : string =\n",
       "  \"P3\\n3 3\\n255\\n   1  10 100   1  10 100   1  10 100\\n   1  10 100   1  10 100   1  10 100\\n   1  10 100   1  10 100   1  10 100\\n\"\n"
      ]
     },
     "execution_count": 16,
     "metadata": {},
     "output_type": "execute_result"
    },
    {
     "data": {
      "text/plain": [
       "- : unit = ()\n"
      ]
     },
     "execution_count": 16,
     "metadata": {},
     "output_type": "execute_result"
    }
   ],
   "source": [
    "let i = image (3,3) (1,10,100);;\n",
    "let str = toPPM i;;\n",
    "let expected = {|P3\n",
    "3 3\n",
    "255\n",
    "   1  10 100   1  10 100   1  10 100\n",
    "   1  10 100   1  10 100   1  10 100\n",
    "   1  10 100   1  10 100   1  10 100\n",
    "|};;\n",
    "assert(str = expected)"
   ]
  },
  {
   "cell_type": "markdown",
   "metadata": {},
   "source": [
    "To render the images, the function `Focs.Ppm.printer` can be used to display the image in the Jupyter notebook:"
   ]
  },
  {
   "cell_type": "code",
   "execution_count": 17,
   "metadata": {},
   "outputs": [
    {
     "data": {
      "text/plain": [
       "val i : image =\n",
       "  Image ((100, 100),\n",
       "   [|[|(0, 0, 255); (0, 0, 255); (0, 0, 255); (0, 0, 255); (0, 0, 255);\n",
       "       (0, 0, 255); (0, 0, 255); (0, 0, 255); (0, 0, 255); (0, 0, 255);\n",
       "       (0, 0, 255); (0, 0, 255); (0, 0, 255); (0, 0, 255); (0, 0, 255);\n",
       "       (0, 0, 255); (0, 0, 255); (0, 0, 255); (0, 0, 255); (0, 0, 255);\n",
       "       (0, 0, 255); (0, 0, 255); (0, 0, 255); (0, 0, 255); (0, 0, 255);\n",
       "       (0, 0, 255); (0, 0, 255); (0, 0, 255); (0, 0, 255); (0, 0, 255);\n",
       "       (0, 0, 255); (0, 0, 255); (0, 0, 255); (0, 0, 255); (0, 0, 255);\n",
       "       (0, 0, 255); (0, 0, 255); (0, 0, 255); (0, 0, 255); (0, 0, 255);\n",
       "       (0, 0, 255); (0, 0, 255); (0, 0, 255); (0, 0, 255); (0, 0, 255);\n",
       "       (0, 0, 255); (0, 0, 255); (0, 0, 255); (0, 0, 255); (0, 0, 255);\n",
       "       (0, 0, 255); (0, 0, 255); (0, 0, 255); (0, 0, 255); (0, 0, 255);\n",
       "       (0, 0, 255); (0, 0, 255); (0, 0, 255); (0, ...); ...|];\n",
       "     ...|])\n"
      ]
     },
     "execution_count": 17,
     "metadata": {},
     "output_type": "execute_result"
    },
    {
     "data": {
      "image/png": "[encoded data removed]"
     },
     "metadata": {},
     "output_type": "display_data"
    },
    {
     "data": {
      "text/plain": [
       "- : unit = ()\n"
      ]
     },
     "execution_count": 17,
     "metadata": {},
     "output_type": "execute_result"
    }
   ],
   "source": [
    "let i = image (100,100) (0,0,255);;\n",
    "Focs.Ppm.printer (toPPM i)"
   ]
  },
  {
   "cell_type": "markdown",
   "metadata": {},
   "source": [
    "This can be installed as a custom printer:"
   ]
  },
  {
   "cell_type": "code",
   "execution_count": 18,
   "metadata": {},
   "outputs": [
    {
     "data": {
      "text/plain": [
       "val printer : image -> unit = <fun>\n"
      ]
     },
     "execution_count": 18,
     "metadata": {},
     "output_type": "execute_result"
    },
    {
     "data": {
      "image/png": "[encoded data removed]"
     },
     "metadata": {},
     "output_type": "display_data"
    },
    {
     "data": {
      "text/plain": [
       "- : image = \n"
      ]
     },
     "execution_count": 18,
     "metadata": {},
     "output_type": "execute_result"
    }
   ],
   "source": [
    "let printer image = Focs.Ppm.printer (toPPM image);;\n",
    "#install_printer printer;;\n",
    "image (100,100) (0,255,0);;"
   ]
  },
  {
   "cell_type": "markdown",
   "metadata": {},
   "source": [
    "3. Implement the ML functions `drawHoriz`, `drawVert` and `drawDiag`. The first draws a horizontal line to the right from the given starting point; the second draws a vertical line downwards; the third draws a diagonal line to the right and down. In each case, the length of the line in pixels is given as an integer. (Note: the return type of these functions is unit since they affect the input image and therefore have nothing to return)."
   ]
  },
  {
   "cell_type": "code",
   "execution_count": 32,
   "metadata": {
    "deletable": false,
    "nbgrader": {
     "cell_type": "code",
     "checksum": "2034c10b31f8d96d253ca96282e637d7",
     "grade": true,
     "grade_id": "cell-6467b492071d58a8",
     "locked": false,
     "points": 1,
     "schema_version": 3,
     "solution": true,
     "task": false
    }
   },
   "outputs": [
    {
     "data": {
      "text/plain": [
       "val drawHoriz : image -> colour -> int * int -> int -> unit = <fun>\n"
      ]
     },
     "execution_count": 32,
     "metadata": {},
     "output_type": "execute_result"
    },
    {
     "data": {
      "text/plain": [
       "val drawVert : image -> colour -> int * int -> int -> unit = <fun>\n"
      ]
     },
     "execution_count": 32,
     "metadata": {},
     "output_type": "execute_result"
    },
    {
     "data": {
      "text/plain": [
       "val drawDiag : image -> colour -> int * int -> int -> unit = <fun>\n"
      ]
     },
     "execution_count": 32,
     "metadata": {},
     "output_type": "execute_result"
    }
   ],
   "source": [
    "let rec drawHoriz image c xy len = match image, len, xy with\n",
    "    | _, 0, _ -> ()\n",
    "    | Image (_, arr), l, (x,y) -> arr.(y).(x) <- c; drawHoriz image c (x+1,y) (len-1)\n",
    "\n",
    "let rec drawVert image c xy len = match image, len, xy with\n",
    "    | _, 0, _ -> ()\n",
    "    | Image (_, arr), l, (x,y) -> arr.(y).(x) <- c; drawVert image c (x,y+1) (len-1)\n",
    "\n",
    "let rec drawDiag image c xy len = match image, len, xy with\n",
    "    | _, 0, _ -> ()\n",
    "    | Image (_, arr), l, (x,y) -> arr.(y).(x) <- c; drawDiag image c (x+1,y+1) (len-1)\n",
    "\n"
   ]
  },
  {
   "cell_type": "code",
   "execution_count": 37,
   "metadata": {
    "deletable": false,
    "editable": false,
    "nbgrader": {
     "cell_type": "code",
     "checksum": "5b248980fb5e98c71f3af8d764b0953c",
     "grade": false,
     "grade_id": "cell-0d53778ff34e9d1d",
     "locked": true,
     "schema_version": 3,
     "solution": false,
     "task": false
    }
   },
   "outputs": [
    {
     "data": {
      "image/png": "[encoded data removed]"
     },
     "metadata": {},
     "output_type": "display_data"
    },
    {
     "data": {
      "text/plain": [
       "val i1 : image = \n"
      ]
     },
     "execution_count": 37,
     "metadata": {},
     "output_type": "execute_result"
    },
    {
     "data": {
      "image/png": "[encoded data removed]"
     },
     "metadata": {},
     "output_type": "display_data"
    },
    {
     "data": {
      "text/plain": [
       "val i2 : image = \n"
      ]
     },
     "execution_count": 37,
     "metadata": {},
     "output_type": "execute_result"
    },
    {
     "data": {
      "image/png": "[encoded data removed]"
     },
     "metadata": {},
     "output_type": "display_data"
    },
    {
     "data": {
      "text/plain": [
       "val i3 : image = \n"
      ]
     },
     "execution_count": 37,
     "metadata": {},
     "output_type": "execute_result"
    },
    {
     "data": {
      "text/plain": [
       "val tests_i1 : ((int * int) * (int * int * int)) list =\n",
       "  [((20, 10), (255, 255, 0)); ((21, 11), (0, 0, 0));\n",
       "   ((69, 10), (255, 255, 0)); ((70, 10), (0, 0, 0))]\n"
      ]
     },
     "execution_count": 37,
     "metadata": {},
     "output_type": "execute_result"
    },
    {
     "data": {
      "text/plain": [
       "val tests_i2 : ((int * int) * (int * int * int)) list =\n",
       "  [((15, 15), (255, 0, 0)); ((16, 15), (0, 0, 0)); ((89, 89), (255, 0, 0));\n",
       "   ((90, 90), (0, 0, 0))]\n"
      ]
     },
     "execution_count": 37,
     "metadata": {},
     "output_type": "execute_result"
    },
    {
     "data": {
      "text/plain": [
       "val tests_i3 : ((int * int) * (int * int * int)) list =\n",
       "  [((20, 21), (0, 255, 255)); ((21, 21), (0, 0, 0));\n",
       "   ((20, 49), (0, 255, 255)); ((20, 50), (0, 0, 0))]\n"
      ]
     },
     "execution_count": 37,
     "metadata": {},
     "output_type": "execute_result"
    },
    {
     "data": {
      "text/plain": [
       "val test_image : image -> ((int * int) * colour) list -> unit = <fun>\n"
      ]
     },
     "execution_count": 37,
     "metadata": {},
     "output_type": "execute_result"
    },
    {
     "data": {
      "text/plain": [
       "- : unit = ()\n"
      ]
     },
     "execution_count": 37,
     "metadata": {},
     "output_type": "execute_result"
    }
   ],
   "source": [
    "let i1 = let i = image (100,100) (0,0,0) in drawHoriz i (255,255,0) (10,10) 60; i;;\n",
    "let i2 = let i = image (100,100) (0,0,0) in drawDiag i (255,0,0) (10,10) 80; i;;\n",
    "let i3 = let i = image (100,100) (0,0,0) in drawVert i (0,255,255) (20,20) 30; i;;\n",
    "let tests_i1 = [\n",
    " (20,10),(255,255,0);\n",
    " (21,11),(0,0,0);\n",
    " (69,10),(255,255,0);\n",
    " (70,10),(0,0,0);\n",
    "]\n",
    "let tests_i2 = [\n",
    " (15,15),(255,0,0);\n",
    " (16,15),(0,0,0);\n",
    " (89,89),(255,0,0);\n",
    " (90,90),(0,0,0);\n",
    "]\n",
    "let tests_i3 = [\n",
    " (20,21),(0,255,255);\n",
    " (21,21),(0,0,0);\n",
    " (20,49),(0,255,255);\n",
    " (20,50),(0,0,0);\n",
    "]\n",
    "let test_image image pixels =\n",
    "    List.iter (fun (xy,rgb) -> assert(getPixel xy image = rgb)) pixels;;\n",
    "test_image i1 tests_i1;\n",
    "test_image i2 tests_i2;\n",
    "test_image i3 tests_i3;\n"
   ]
  },
  {
   "cell_type": "markdown",
   "metadata": {},
   "source": [
    "Implement a function `drawLine` to draw a line from one pixel position to another. Use Bresenham's line algorithm, which can be expressed by the following pseudo-code:\n",
    "\n",
    "```\n",
    "function line(x0, y0, x1, y1)\n",
    "  dx := abs(x1-x0)\n",
    "  dy := abs(y1-y0)\n",
    "  if x0 < x1 then sx := 1 else sx := -1\n",
    "  if y0 < y1 then sy := 1 else sy := -1\n",
    "  err := dx-dy\n",
    "  loop\n",
    "    setPixel(x0,y0)\n",
    "    if x0 = x1 and y0 = y1 exit loop\n",
    "    e2 := 2*err\n",
    "    if e2 > -dy then err := err - dy\n",
    "      x0 := x0 + sx\n",
    "    end if\n",
    "    if e2 < dx then\n",
    "      err := err + dx\n",
    "      y0 := y0 + sy\n",
    "    end if\n",
    "  end loop\n",
    "```\n",
    "\n",
    "You may be tempted to translate this into OCaml making heavy use of reference types. It’s actually simpler to implement the loop as a recursive function taking three arguments x, y and err. The integer absolute value is available as the function `abs`.\n"
   ]
  },
  {
   "cell_type": "code",
   "execution_count": 44,
   "metadata": {
    "deletable": false,
    "nbgrader": {
     "cell_type": "code",
     "checksum": "f19e405570a84f2bc98ef7a9a5489972",
     "grade": true,
     "grade_id": "cell-3cd123a9177ef91b",
     "locked": false,
     "points": 1,
     "schema_version": 3,
     "solution": true,
     "task": false
    }
   },
   "outputs": [
    {
     "data": {
      "text/plain": [
       "val drawLine : image -> colour -> int * int -> int * int -> unit = <fun>\n"
      ]
     },
     "execution_count": 44,
     "metadata": {},
     "output_type": "execute_result"
    }
   ],
   "source": [
    "let drawLine image colour start finish = match image, start, finish with\n",
    "    | Image(_, arr), (x0, y0), (x1, y1) ->\n",
    "        let abs x = if x<0 then x*(-1) else x in\n",
    "        let sx = if x0<x1 then 1 else (-1) in\n",
    "        let sy = if y0<y1 then 1 else (-1) in\n",
    "        let dx = abs (x1-x0) in\n",
    "        let dy = abs (y1-y0) in\n",
    "        let update1 (x, y, err, e2) = if e2 > -dy then (x+sx, y, err-dy, e2) else (x,y,err,e2) in\n",
    "        let update2 (x, y, err, e2) = if e2 < dx then (x, y+sy, err+dx, e2) else (x,y,err,e2) in\n",
    "        let rec hlp x y err = \n",
    "            arr.(y).(x) <- colour;\n",
    "            if x=x1 && y=y1 then ()\n",
    "            else\n",
    "                let e2 = 2*err in\n",
    "                match update2 (update1 (x, y, err, e2)) with\n",
    "                    | (x, y, err, _) -> hlp x y err\n",
    "        in hlp x0 y0 (dx-dy)"
   ]
  },
  {
   "cell_type": "markdown",
   "metadata": {},
   "source": [
    "The following may be used to test your `drawLine` function, which should produce a pattern. You can see the expected pattern [here](https://raw.githubusercontent.com/jonludlam/focs-support/master/share/pattern-reference.png)"
   ]
  },
  {
   "cell_type": "code",
   "execution_count": 45,
   "metadata": {
    "deletable": false,
    "editable": false,
    "nbgrader": {
     "cell_type": "code",
     "checksum": "67498007f3a7f44f70938a9c51b01d31",
     "grade": true,
     "grade_id": "cell-d35e1fd410a15bc1",
     "locked": true,
     "points": 1,
     "schema_version": 3,
     "solution": false,
     "task": false
    }
   },
   "outputs": [
    {
     "data": {
      "image/png": "[encoded data removed]"
     },
     "metadata": {},
     "output_type": "display_data"
    },
    {
     "data": {
      "text/plain": [
       "val img : image = \n"
      ]
     },
     "execution_count": 45,
     "metadata": {},
     "output_type": "execute_result"
    },
    {
     "data": {
      "text/plain": [
       "val reference : string =\n",
       "  \"P3\\n500 500\\n255\\n   0   0   0   0   0   0   0   0   0   0   0   0   0   0   0   0   0   0   0   0   0   0   0   0   0   0   0   0   0   0   0   0   0   0   0   0   0   0   0   0   0   0   0   0   0   0   0   0   0   0   0   0   0   0   0   0   0   0   0   0   0   0   0   0   0   0   0   0   0   0   0\"... (* string length 3000515; truncated *)\n"
      ]
     },
     "execution_count": 45,
     "metadata": {},
     "output_type": "execute_result"
    },
    {
     "data": {
      "text/plain": [
       "- : unit = ()\n"
      ]
     },
     "execution_count": 45,
     "metadata": {},
     "output_type": "execute_result"
    }
   ],
   "source": [
    "let img =\n",
    "    let img = image (500,500) (0,0,0) in\n",
    "    let square (x0,y0) radius angle =\n",
    "        let point th =\n",
    "            (x0 + int_of_float (radius *. sin th), y0 + int_of_float (radius *. cos th))\n",
    "        in\n",
    "        let points =\n",
    "          [ point angle;\n",
    "            point (angle +. Float.pi /. 2.0);\n",
    "            point (angle +. 2.0 *. Float.pi /. 2.0);\n",
    "            point (angle +. 3.0 *. Float.pi /. 2.0);\n",
    "            point (angle +. 4.0 *. Float.pi /. 2.0);\n",
    "            ] in\n",
    "        let rec inner = function\n",
    "            | p1::p2::rest ->\n",
    "                drawLine img (255,0,0) p1 p2;\n",
    "                inner (p2::rest)\n",
    "            | _ -> ()\n",
    "        in inner points\n",
    "    in\n",
    "    for n=0 to 50 do\n",
    "        square (250,250) (250.0 *. 0.95 ** (float_of_int n)) (-. (Float.pi /. 4.) +. (float_of_int n) *. 0.05)\n",
    "    done;\n",
    "    img;;\n",
    "    \n",
    "let reference =\n",
    "    let filename = Printf.sprintf \"%s/share/focs/pattern-reference.ppm\" (Unix.getenv \"OPAM_SWITCH_PREFIX\") in\n",
    "    let st = Unix.stat filename in\n",
    "    let size = st.Unix.st_size in \n",
    "    let ic = open_in filename in\n",
    "    really_input_string ic size;;\n",
    "\n",
    "assert(reference = toPPM img);;\n"
   ]
  },
  {
   "cell_type": "code",
   "execution_count": null,
   "metadata": {},
   "outputs": [],
   "source": []
  }
 ],
 "metadata": {
  "kernelspec": {
   "display_name": "OCaml 4.14",
   "language": "OCaml",
   "name": "ocaml-jupyter"
  },
  "language_info": {
   "codemirror_mode": "text/x-ocaml",
   "file_extension": ".ml",
   "mimetype": "text/x-ocaml",
   "name": "OCaml",
   "nbconverter_exporter": null,
   "pygments_lexer": "OCaml",
   "version": "4.14.1"
  }
 },
 "nbformat": 4,
 "nbformat_minor": 2
}
