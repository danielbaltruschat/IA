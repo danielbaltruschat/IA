{
 "cells": [
  {
   "cell_type": "markdown",
   "metadata": {},
   "source": [
    "Before you submit this tick, make sure everything runs as expected. First, **save your work** (in the menubar, select File$\\rightarrow$Save and Checkpoint). Then **restart the kernel** (in the menubar, select Kernel$\\rightarrow$Restart) and then **run all cells** (in the menubar, select Cell$\\rightarrow$Run All).\n",
    "\n",
    "Make sure you fill in any place that says `YOUR CODE HERE` or \"YOUR ANSWER HERE\", and remove any instances of `failwith \"Not implemented\";;`\n"
   ]
  },
  {
   "cell_type": "markdown",
   "metadata": {},
   "source": [
    "---"
   ]
  },
  {
   "cell_type": "markdown",
   "metadata": {},
   "source": [
    "# FoCS Tick 1 - Recursive Functions\n",
    "\n",
    "OCaml is a strongly typed language and distinguishes between floating point and integer values. The arithmetic operators `+`, `-`, `*` and `/` operate on integers, whereas the equivalent floating point operators are `+.`, `-.`, `*.` and `/.`. OCaml will interpret numbers as integers unless there is a decimal point or exponent in them, so the following are integers: `0`, `1`, `1000`, and these are floating point numbers: `1.0`, `1.`, `1e0`. The functions `int_of_float` and `float_of_int` can be used to convert between the types.\n",
    "\n",
    "Everybody who writes computer programs should be aware of floating-point rounding errors. Ask OCaml to evaluate the following expression, and carefully note its response."
   ]
  },
  {
   "cell_type": "code",
   "execution_count": 4,
   "metadata": {},
   "outputs": [
    {
     "data": {
      "text/plain": [
       "- : float = -2.77555756156289135e-17\n"
      ]
     },
     "execution_count": 4,
     "metadata": {},
     "output_type": "execute_result"
    }
   ],
   "source": [
    "1.0 -. 0.9 -. 0.1"
   ]
  },
  {
   "cell_type": "markdown",
   "metadata": {},
   "source": [
    "The two solutions of the equation $ax^2 + bx + c = 0$ are given by the quadratic formula,\n",
    "$$\\frac{−b \\pm \\sqrt{b^2 −4ac}}{2a}$$\n",
    "The following OCaml code computes one of these roots."
   ]
  },
  {
   "cell_type": "code",
   "execution_count": 3,
   "metadata": {},
   "outputs": [
    {
     "data": {
      "text/plain": [
       "val rootplus : float -> float -> float -> float = <fun>\n"
      ]
     },
     "execution_count": 3,
     "metadata": {},
     "output_type": "execute_result"
    }
   ],
   "source": [
    "let rootplus a b c = (-. b +. sqrt (b *. b -. 4.0 *. a *. c)) /. (2.0 *. a)"
   ]
  },
  {
   "cell_type": "markdown",
   "metadata": {},
   "source": [
    "1. Write an OCaml function `evalquad` such that `evalquad a b c x` computes the value of $ax^2+bx+c$."
   ]
  },
  {
   "cell_type": "code",
   "execution_count": 13,
   "metadata": {
    "deletable": false,
    "nbgrader": {
     "cell_type": "code",
     "checksum": "0c8d665ea7262aa1607ca8699db24753",
     "grade": false,
     "grade_id": "cell-6971eca02b2d6bb0",
     "locked": false,
     "schema_version": 3,
     "solution": true,
     "task": false
    }
   },
   "outputs": [
    {
     "data": {
      "text/plain": [
       "val evalquad : float -> float -> float -> float -> float = <fun>\n"
      ]
     },
     "execution_count": 13,
     "metadata": {},
     "output_type": "execute_result"
    }
   ],
   "source": [
    "let evalquad a b c x =\n",
    "    a*.x*.x +. b*.x +. c"
   ]
  },
  {
   "cell_type": "markdown",
   "metadata": {},
   "source": [
    "The following cell contains tests for your evalquad function so you can check your own solution before submitting it. Don't worry if you don't understand the cell - the important this is that when the cell is executed it will display an error if the tests don't pass. "
   ]
  },
  {
   "cell_type": "code",
   "execution_count": 14,
   "metadata": {
    "deletable": false,
    "editable": false,
    "nbgrader": {
     "cell_type": "code",
     "checksum": "c3d3d672419fb4be8bbec358c25a588a",
     "grade": true,
     "grade_id": "cell-07fbcdd398bee7bc",
     "locked": true,
     "points": 1,
     "schema_version": 3,
     "solution": false,
     "task": false
    }
   },
   "outputs": [
    {
     "data": {
      "text/plain": [
       "val approx_eq : float -> float -> bool = <fun>\n"
      ]
     },
     "execution_count": 14,
     "metadata": {},
     "output_type": "execute_result"
    },
    {
     "data": {
      "text/plain": [
       "- : unit = ()\n"
      ]
     },
     "execution_count": 14,
     "metadata": {},
     "output_type": "execute_result"
    }
   ],
   "source": [
    "let approx_eq a b = abs_float (a -. b) < 1e-10;;\n",
    "assert(approx_eq (evalquad 1.2 3.4 5.6 7.8) 105.128)"
   ]
  },
  {
   "cell_type": "markdown",
   "metadata": {},
   "source": [
    "Mathematical function definitions are often recursive. The well-known factorial function, $n!$, is defined by $0!=1$ and (for n > 0) $$n! = n * (n-1)!$$\n",
    "\n",
    "2. Write an OCaml function `facr` to compute the integer $n!$ by recursion, and also a function `faci` to compute the integer $n!$ by iteration (in the sense described in Lecture 2). When writing your function, consider what to do with negative arguments."
   ]
  },
  {
   "cell_type": "code",
   "execution_count": 19,
   "metadata": {
    "deletable": false,
    "nbgrader": {
     "cell_type": "code",
     "checksum": "2900f2aef31771bda1cd146382e75744",
     "grade": false,
     "grade_id": "cell-8f0893754b7065bb",
     "locked": false,
     "schema_version": 3,
     "solution": true,
     "task": false
    }
   },
   "outputs": [
    {
     "data": {
      "text/plain": [
       "exception NegativeFactorial of int\n"
      ]
     },
     "execution_count": 19,
     "metadata": {},
     "output_type": "execute_result"
    },
    {
     "data": {
      "text/plain": [
       "val facr : int -> int = <fun>\n"
      ]
     },
     "execution_count": 19,
     "metadata": {},
     "output_type": "execute_result"
    },
    {
     "data": {
      "text/plain": [
       "val faci : int -> int = <fun>\n"
      ]
     },
     "execution_count": 19,
     "metadata": {},
     "output_type": "execute_result"
    }
   ],
   "source": [
    "exception NegativeFactorial of int\n",
    "\n",
    "let rec facr n = \n",
    "    if n<0 then raise (NegativeFactorial n)\n",
    "    else\n",
    "        match n with\n",
    "        | 0 -> 1\n",
    "        | 1 -> 1\n",
    "        | _ -> n * facr (n-1)\n",
    "\n",
    "let faci n =\n",
    "    if n<0 then raise (NegativeFactorial n)\n",
    "    else\n",
    "        let rec hlp n acc = match n with\n",
    "            | 0 -> 1\n",
    "            | 1 -> acc\n",
    "            | _ -> hlp (n-1) (n*acc)\n",
    "        in hlp n 1\n",
    "    "
   ]
  },
  {
   "cell_type": "markdown",
   "metadata": {},
   "source": [
    "The following cell contains tests for `facr` and `faci`."
   ]
  },
  {
   "cell_type": "code",
   "execution_count": 4,
   "metadata": {
    "deletable": false,
    "editable": false,
    "nbgrader": {
     "cell_type": "code",
     "checksum": "ecff99621d5216502e0a93f08d5bf7f9",
     "grade": true,
     "grade_id": "cell-7173a13d67176a6b",
     "locked": true,
     "points": 1,
     "schema_version": 3,
     "solution": false,
     "task": false
    }
   },
   "outputs": [
    {
     "data": {
      "text/plain": [
       "- : unit = ()\n"
      ]
     },
     "execution_count": 4,
     "metadata": {},
     "output_type": "execute_result"
    },
    {
     "data": {
      "text/plain": [
       "- : unit = ()\n"
      ]
     },
     "execution_count": 4,
     "metadata": {},
     "output_type": "execute_result"
    },
    {
     "data": {
      "text/plain": [
       "- : unit = ()\n"
      ]
     },
     "execution_count": 4,
     "metadata": {},
     "output_type": "execute_result"
    },
    {
     "data": {
      "text/plain": [
       "- : unit = ()\n"
      ]
     },
     "execution_count": 4,
     "metadata": {},
     "output_type": "execute_result"
    }
   ],
   "source": [
    "assert (facr 10 = 3628800);;\n",
    "assert (faci 10 = 3628800);;\n",
    "assert (facr 11 = 39916800);;\n",
    "assert (faci 11 = 39916800);;\n"
   ]
  },
  {
   "cell_type": "markdown",
   "metadata": {},
   "source": [
    "3. Write an ML function `sumt` to sum the first n terms of the geometric series\n",
    "$$1+\\frac{1}{2}+\\frac{1}{4} + ... + \\frac{1}{2^{n-1}} + ...$$\n",
    "for $n>0$. For example, when $n=2$ the sum is $\\frac{1}{2^0}+\\frac{1}{2^1}$, or 1.5\n",
    "Observe that each term can be cheaply computed from its predecessor. A mathematician might remark that it is useful to consider the slightly more general function\n",
    "$$f(x,n) = x + \\frac{x}{2} + \\frac{x}{4} + ... + \\frac{x}{2^{n-1}}$$\n",
    "This function satisfies the recursive definition (for $n>0$)\n",
    "$$f(x,n) = x + f(\\frac{x}{2}, n-1)$$"
   ]
  },
  {
   "cell_type": "code",
   "execution_count": 9,
   "metadata": {
    "deletable": false,
    "nbgrader": {
     "cell_type": "code",
     "checksum": "850b5f4bf4a5378c488cf26e7f47f289",
     "grade": false,
     "grade_id": "cell-7e42f38971ae316a",
     "locked": false,
     "schema_version": 3,
     "solution": true,
     "task": false
    }
   },
   "outputs": [
    {
     "data": {
      "text/plain": [
       "val sumt : int -> float = <fun>\n"
      ]
     },
     "execution_count": 9,
     "metadata": {},
     "output_type": "execute_result"
    }
   ],
   "source": [
    "let sumt n = \n",
    "    let rec hlp x n = match n with\n",
    "        | 1 -> x\n",
    "        | _ -> x +. hlp (x /. 2.0) (n-1)\n",
    "    in hlp 1.0 n\n",
    "    \n",
    "    "
   ]
  },
  {
   "cell_type": "markdown",
   "metadata": {},
   "source": [
    "Test your function with the following cell."
   ]
  },
  {
   "cell_type": "code",
   "execution_count": 15,
   "metadata": {
    "deletable": false,
    "editable": false,
    "nbgrader": {
     "cell_type": "code",
     "checksum": "a90be656ec9397d46fc3b04e4ca5ae9b",
     "grade": true,
     "grade_id": "cell-25e0ad2a629e22e0",
     "locked": true,
     "points": 1,
     "schema_version": 3,
     "solution": false,
     "task": false
    }
   },
   "outputs": [
    {
     "data": {
      "text/plain": [
       "- : unit = ()\n"
      ]
     },
     "execution_count": 15,
     "metadata": {},
     "output_type": "execute_result"
    },
    {
     "data": {
      "text/plain": [
       "- : unit = ()\n"
      ]
     },
     "execution_count": 15,
     "metadata": {},
     "output_type": "execute_result"
    },
    {
     "data": {
      "text/plain": [
       "- : unit = ()\n"
      ]
     },
     "execution_count": 15,
     "metadata": {},
     "output_type": "execute_result"
    }
   ],
   "source": [
    "assert (approx_eq (sumt 2) (1.5));;\n",
    "assert (approx_eq (sumt 3) (1.75));;\n",
    "assert (approx_eq (sumt 4) (1.875));;"
   ]
  },
  {
   "cell_type": "code",
   "execution_count": null,
   "metadata": {},
   "outputs": [],
   "source": []
  }
 ],
 "metadata": {
  "kernelspec": {
   "display_name": "OCaml 4.14",
   "language": "OCaml",
   "name": "ocaml-jupyter"
  },
  "language_info": {
   "codemirror_mode": "text/x-ocaml",
   "file_extension": ".ml",
   "mimetype": "text/x-ocaml",
   "name": "OCaml",
   "nbconverter_exporter": null,
   "pygments_lexer": "OCaml",
   "version": "4.14.1"
  }
 },
 "nbformat": 4,
 "nbformat_minor": 2
}
