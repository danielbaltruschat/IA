{
 "cells": [
  {
   "cell_type": "markdown",
   "metadata": {},
   "source": [
    "Before you submit this tick, make sure everything runs as expected. First, **save your work** (in the menubar, select File$\\rightarrow$Save and Checkpoint). Then **restart the kernel** (in the menubar, select Kernel$\\rightarrow$Restart) and then **run all cells** (in the menubar, select Cell$\\rightarrow$Run All).\n",
    "\n",
    "Make sure you fill in any place that says `YOUR CODE HERE` or \"YOUR ANSWER HERE\", and remove any instances of `failwith \"Not implemented\";;`\n"
   ]
  },
  {
   "cell_type": "markdown",
   "metadata": {},
   "source": [
    "---"
   ]
  },
  {
   "cell_type": "markdown",
   "metadata": {},
   "source": [
    "# FoCS Tick 2 - Structured Data - Pairs and Lists\n",
    "\n",
    "Before tackling the questions, try some simple experiments with structured data. Evaluate the following selector functions:"
   ]
  },
  {
   "cell_type": "code",
   "execution_count": 1,
   "metadata": {},
   "outputs": [
    {
     "data": {
      "text/plain": [
       "val fst : 'a * 'b -> 'a = <fun>\n"
      ]
     },
     "execution_count": 1,
     "metadata": {},
     "output_type": "execute_result"
    },
    {
     "data": {
      "text/plain": [
       "val snd : 'a * 'b -> 'b = <fun>\n"
      ]
     },
     "execution_count": 1,
     "metadata": {},
     "output_type": "execute_result"
    }
   ],
   "source": [
    "let fst (x, y) = x\n",
    "let snd (x, y) = y"
   ]
  },
  {
   "cell_type": "markdown",
   "metadata": {},
   "source": [
    "To experiment with them, evaluate the following value declarations:"
   ]
  },
  {
   "cell_type": "code",
   "execution_count": 2,
   "metadata": {},
   "outputs": [
    {
     "data": {
      "text/plain": [
       "val p : string * int = (\"red\", 3)\n"
      ]
     },
     "execution_count": 2,
     "metadata": {},
     "output_type": "execute_result"
    },
    {
     "data": {
      "text/plain": [
       "val q : (string * int) * string = ((\"red\", 3), \"blue\")\n"
      ]
     },
     "execution_count": 2,
     "metadata": {},
     "output_type": "execute_result"
    },
    {
     "data": {
      "text/plain": [
       "val r : ((string * int) * string) * (string * int) =\n",
       "  (((\"red\", 3), \"blue\"), (\"red\", 3))\n"
      ]
     },
     "execution_count": 2,
     "metadata": {},
     "output_type": "execute_result"
    },
    {
     "data": {
      "text/plain": [
       "val s : (int * string) * (((string * int) * string) * (string * int)) =\n",
       "  ((23, \"grey\"), (((\"red\", 3), \"blue\"), (\"red\", 3)))\n"
      ]
     },
     "execution_count": 2,
     "metadata": {},
     "output_type": "execute_result"
    }
   ],
   "source": [
    "let p = (\"red\", 3)\n",
    "let q = (p, \"blue\")\n",
    "let r = (q, p)\n",
    "let s = ((23, \"grey\"), r)"
   ]
  },
  {
   "cell_type": "markdown",
   "metadata": {},
   "source": [
    "Before evaluating the following cell, predict what the result of each statement will be. Extend it with your own statements."
   ]
  },
  {
   "cell_type": "code",
   "execution_count": 3,
   "metadata": {},
   "outputs": [
    {
     "data": {
      "text/plain": [
       "- : string = \"red\"\n"
      ]
     },
     "execution_count": 3,
     "metadata": {},
     "output_type": "execute_result"
    }
   ],
   "source": [
    "fst (fst q);;"
   ]
  },
  {
   "cell_type": "code",
   "execution_count": 4,
   "metadata": {},
   "outputs": [
    {
     "ename": "error",
     "evalue": "compile_error",
     "output_type": "error",
     "traceback": [
      "File \"[4]\", line 1, characters 4-11:\n1 | fst (fst p);;\n        ^^^^^^^\nError: This expression has type string but an expression was expected of type\n         'a * 'b\n"
     ]
    }
   ],
   "source": [
    "fst (fst p);;"
   ]
  },
  {
   "cell_type": "code",
   "execution_count": 5,
   "metadata": {},
   "outputs": [
    {
     "data": {
      "text/plain": [
       "- : (string * int) * string = ((\"red\", 3), \"blue\")\n"
      ]
     },
     "execution_count": 5,
     "metadata": {},
     "output_type": "execute_result"
    }
   ],
   "source": [
    "fst (snd s);;"
   ]
  },
  {
   "cell_type": "markdown",
   "metadata": {},
   "source": [
    "Note that triples are not pairs! Compare OCaml's response to each of the following:"
   ]
  },
  {
   "cell_type": "code",
   "execution_count": 6,
   "metadata": {},
   "outputs": [
    {
     "data": {
      "text/plain": [
       "- : int * int = (1, 2)\n"
      ]
     },
     "execution_count": 6,
     "metadata": {},
     "output_type": "execute_result"
    }
   ],
   "source": [
    "fst ((1,2),3)"
   ]
  },
  {
   "cell_type": "code",
   "execution_count": 7,
   "metadata": {},
   "outputs": [
    {
     "ename": "error",
     "evalue": "compile_error",
     "output_type": "error",
     "traceback": [
      "File \"[7]\", line 1, characters 4-11:\n1 | fst (1,2,3)\n        ^^^^^^^\nError: This expression has type 'a * 'b * 'c\n       but an expression was expected of type 'd * 'e\n"
     ]
    }
   ],
   "source": [
    "fst (1,2,3)"
   ]
  },
  {
   "cell_type": "markdown",
   "metadata": {},
   "source": [
    "Recall that, although lists can hold structured data, all elements in a list must have the same *type*. Note OCaml's response to each of the following. Remember that `1.0` is a `float` and `2` is an `int`"
   ]
  },
  {
   "cell_type": "code",
   "execution_count": 8,
   "metadata": {},
   "outputs": [
    {
     "ename": "error",
     "evalue": "compile_error",
     "output_type": "error",
     "traceback": [
      "File \"[8]\", line 1, characters 10-11:\n1 | [\"orange\";1;2]\n              ^\nError: This expression has type int but an expression was expected of type\n         string\n"
     ]
    }
   ],
   "source": [
    "[\"orange\";1;2]"
   ]
  },
  {
   "cell_type": "code",
   "execution_count": 9,
   "metadata": {},
   "outputs": [
    {
     "ename": "error",
     "evalue": "compile_error",
     "output_type": "error",
     "traceback": [
      "File \"[9]\", line 1, characters 6-7:\n1 | 1.0::[2]\n          ^\nError: This expression has type int but an expression was expected of type\n         float\n  Hint: Did you mean `2.'?\n"
     ]
    }
   ],
   "source": [
    "1.0::[2]"
   ]
  },
  {
   "cell_type": "code",
   "execution_count": 10,
   "metadata": {},
   "outputs": [
    {
     "ename": "error",
     "evalue": "compile_error",
     "output_type": "error",
     "traceback": [
      "File \"[10]\", line 1, characters 4-9:\n1 | [3; (3,3)]\n        ^^^^^\nError: This expression has type 'a * 'b\n       but an expression was expected of type int\n"
     ]
    }
   ],
   "source": [
    "[3; (3,3)]"
   ]
  },
  {
   "cell_type": "markdown",
   "metadata": {},
   "source": [
    "*Important note*: In the questions below there are inputs that make no sense. For example, asking for the last element of an empty list. The correct way to deal with such problems is to raise an exception. If you already know how to do this, then please do so. If you do not, you may omit these cases. Your functions will produce a warning about matches not being exhaustive but that is acceptable for this tick and you will still pass the automated checker."
   ]
  },
  {
   "cell_type": "markdown",
   "metadata": {},
   "source": [
    "1. The function `List.hd` returns the first element of a list. Getting at the last element is harder. Write a recursive function `last` to return the last element of a list. For example, on input `[1;2;3]`, your function `last` should return `3`"
   ]
  },
  {
   "cell_type": "code",
   "execution_count": 13,
   "metadata": {
    "deletable": false,
    "nbgrader": {
     "cell_type": "code",
     "checksum": "c3a3eb1dfd589ff701bcf72c4c21dc42",
     "grade": false,
     "grade_id": "cell-63a0a50894cc1683",
     "locked": false,
     "schema_version": 3,
     "solution": true,
     "task": false
    }
   },
   "outputs": [
    {
     "data": {
      "text/plain": [
       "exception EmptyList\n"
      ]
     },
     "execution_count": 13,
     "metadata": {},
     "output_type": "execute_result"
    },
    {
     "data": {
      "text/plain": [
       "val last : 'a list -> 'a = <fun>\n"
      ]
     },
     "execution_count": 13,
     "metadata": {},
     "output_type": "execute_result"
    }
   ],
   "source": [
    "exception EmptyList\n",
    "\n",
    "let rec last = function\n",
    "    | x1::x2::xs -> last (x2::xs)\n",
    "    | x::xs -> x\n",
    "    | [] -> raise EmptyList"
   ]
  },
  {
   "cell_type": "code",
   "execution_count": 14,
   "metadata": {
    "deletable": false,
    "editable": false,
    "nbgrader": {
     "cell_type": "code",
     "checksum": "96288b6e7cc6fe2cc29d296c685af41e",
     "grade": true,
     "grade_id": "cell-5711db27280c84bf",
     "locked": true,
     "points": 1,
     "schema_version": 3,
     "solution": false,
     "task": false
    }
   },
   "outputs": [
    {
     "data": {
      "text/plain": [
       "- : unit = ()\n"
      ]
     },
     "execution_count": 14,
     "metadata": {},
     "output_type": "execute_result"
    },
    {
     "data": {
      "text/plain": [
       "- : unit = ()\n"
      ]
     },
     "execution_count": 14,
     "metadata": {},
     "output_type": "execute_result"
    },
    {
     "data": {
      "text/plain": [
       "- : unit = ()\n"
      ]
     },
     "execution_count": 14,
     "metadata": {},
     "output_type": "execute_result"
    }
   ],
   "source": [
    "assert(last [1;2;3] = 3);;\n",
    "assert(last [10;9;8;7;6;5;4;3;2;1001] = 1001);;\n",
    "assert(last [1] = 1);;"
   ]
  },
  {
   "cell_type": "markdown",
   "metadata": {},
   "source": [
    "Now do the same thing for `List.tl`, i.e. write a recursive function `butlast` to remove the last element of a list. For example, `butlast [1;2;3;4]` should return `[1;2;3]`. Note that `butlast xs` must be equivalent to `List.rev (List.tl (List.rev xs))`, so `butlast [1]` should return `[]`. Check that you can compute\n",
    "the time and space complexity of `butlast` (and compare it with `List.rev (List.tl (List.rev xs))`)."
   ]
  },
  {
   "cell_type": "code",
   "execution_count": 1,
   "metadata": {
    "deletable": false,
    "nbgrader": {
     "cell_type": "code",
     "checksum": "f8bb0989857ca31da6038f7658d0c07f",
     "grade": false,
     "grade_id": "cell-0e62a9655ced4fbd",
     "locked": false,
     "schema_version": 3,
     "solution": true,
     "task": false
    }
   },
   "outputs": [
    {
     "data": {
      "text/plain": [
       "val butlast : 'a list -> 'a list = <fun>\n"
      ]
     },
     "execution_count": 1,
     "metadata": {},
     "output_type": "execute_result"
    }
   ],
   "source": [
    "let rec butlast = function\n",
    "    | [] -> []\n",
    "    | x1::x2::xs -> x1 :: butlast(x2::xs)\n",
    "    | x -> []"
   ]
  },
  {
   "cell_type": "code",
   "execution_count": 2,
   "metadata": {
    "deletable": false,
    "editable": false,
    "nbgrader": {
     "cell_type": "code",
     "checksum": "2d23232f820c14acd05184b846ddda41",
     "grade": true,
     "grade_id": "cell-71b53e441e1348c7",
     "locked": true,
     "points": 1,
     "schema_version": 3,
     "solution": false,
     "task": false
    }
   },
   "outputs": [
    {
     "data": {
      "text/plain": [
       "- : unit = ()\n"
      ]
     },
     "execution_count": 2,
     "metadata": {},
     "output_type": "execute_result"
    },
    {
     "data": {
      "text/plain": [
       "- : unit = ()\n"
      ]
     },
     "execution_count": 2,
     "metadata": {},
     "output_type": "execute_result"
    }
   ],
   "source": [
    "assert(butlast [1;2;3;4] = [1;2;3]);;\n",
    "assert(butlast [1] = []);;"
   ]
  },
  {
   "cell_type": "markdown",
   "metadata": {},
   "source": [
    "3. Write a function `nth` such that `nth xs n` returns the *n*th element of list xs, counting the head of the list as element zero."
   ]
  },
  {
   "cell_type": "code",
   "execution_count": 6,
   "metadata": {
    "deletable": false,
    "nbgrader": {
     "cell_type": "code",
     "checksum": "917510de5c30b730c80356ac21024505",
     "grade": false,
     "grade_id": "cell-cd66c2343ca9ebf7",
     "locked": false,
     "schema_version": 3,
     "solution": true,
     "task": false
    }
   },
   "outputs": [
    {
     "data": {
      "text/plain": [
       "exception ListIndexOutOfBounds\n"
      ]
     },
     "execution_count": 6,
     "metadata": {},
     "output_type": "execute_result"
    },
    {
     "data": {
      "text/plain": [
       "val nth : 'a list -> int -> 'a = <fun>\n"
      ]
     },
     "execution_count": 6,
     "metadata": {},
     "output_type": "execute_result"
    }
   ],
   "source": [
    "exception ListIndexOutOfBounds\n",
    "\n",
    "let rec nth xs n = match n, xs with\n",
    "    | (k, []) -> raise ListIndexOutOfBounds\n",
    "    | (0, x::xs) -> x\n",
    "    | (k, x::xs) -> nth xs (k-1)\n",
    "    "
   ]
  },
  {
   "cell_type": "code",
   "execution_count": 7,
   "metadata": {
    "deletable": false,
    "editable": false,
    "nbgrader": {
     "cell_type": "code",
     "checksum": "df3b609726fa9634867ca8c9a7ae0f3f",
     "grade": true,
     "grade_id": "cell-709e6f6f27bb69d4",
     "locked": true,
     "points": 1,
     "schema_version": 3,
     "solution": false,
     "task": false
    }
   },
   "outputs": [
    {
     "data": {
      "text/plain": [
       "- : unit = ()\n"
      ]
     },
     "execution_count": 7,
     "metadata": {},
     "output_type": "execute_result"
    },
    {
     "data": {
      "text/plain": [
       "- : unit = ()\n"
      ]
     },
     "execution_count": 7,
     "metadata": {},
     "output_type": "execute_result"
    },
    {
     "data": {
      "text/plain": [
       "- : unit = ()\n"
      ]
     },
     "execution_count": 7,
     "metadata": {},
     "output_type": "execute_result"
    },
    {
     "data": {
      "text/plain": [
       "- : unit = ()\n"
      ]
     },
     "execution_count": 7,
     "metadata": {},
     "output_type": "execute_result"
    },
    {
     "data": {
      "text/plain": [
       "- : unit = ()\n"
      ]
     },
     "execution_count": 7,
     "metadata": {},
     "output_type": "execute_result"
    }
   ],
   "source": [
    "assert (nth [1;2;3;4] 0 = 1);;\n",
    "assert (nth [1;2;3;4] 1 = 2);;\n",
    "assert (nth [1;2;3;4] 2 = 3);;\n",
    "assert (nth [1;2;3;4] 3 = 4);;\n",
    "assert (nth [1;2;3;4;5;6;7;8;9;10] 7 = 8);;"
   ]
  },
  {
   "cell_type": "code",
   "execution_count": null,
   "metadata": {},
   "outputs": [],
   "source": []
  }
 ],
 "metadata": {
  "kernelspec": {
   "display_name": "OCaml 4.14",
   "language": "OCaml",
   "name": "ocaml-jupyter"
  },
  "language_info": {
   "codemirror_mode": "text/x-ocaml",
   "file_extension": ".ml",
   "mimetype": "text/x-ocaml",
   "name": "OCaml",
   "nbconverter_exporter": null,
   "pygments_lexer": "OCaml",
   "version": "4.14.1"
  }
 },
 "nbformat": 4,
 "nbformat_minor": 2
}
