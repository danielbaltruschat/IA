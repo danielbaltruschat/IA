{
 "cells": [
  {
   "cell_type": "markdown",
   "metadata": {},
   "source": [
    "Before you submit this tick, make sure everything runs as expected. First, **save your work** (in the menubar, select File$\\rightarrow$Save and Checkpoint). Then **restart the kernel** (in the menubar, select Kernel$\\rightarrow$Restart) and then **run all cells** (in the menubar, select Cell$\\rightarrow$Run All).\n",
    "\n",
    "Make sure you fill in any place that says `YOUR CODE HERE` or \"YOUR ANSWER HERE\", and remove any instances of `failwith \"Not implemented\";;`\n"
   ]
  },
  {
   "cell_type": "markdown",
   "metadata": {},
   "source": [
    "---"
   ]
  },
  {
   "cell_type": "markdown",
   "metadata": {},
   "source": [
    "# FoCS Tick 4 - Functions as Data, Integer Streams\n",
    "\n",
    "In OCaml, functions can be given as input and can be returned as results from functions. As coded below, the function twice takes the argument f and returns an anonymous function that applies f twice to its argument."
   ]
  },
  {
   "cell_type": "code",
   "execution_count": 1,
   "metadata": {},
   "outputs": [
    {
     "data": {
      "text/plain": [
       "val twice : ('a -> 'a) -> 'a -> 'a = <fun>\n"
      ]
     },
     "execution_count": 1,
     "metadata": {},
     "output_type": "execute_result"
    }
   ],
   "source": [
    "let twice f = fun x -> f (f x)"
   ]
  },
  {
   "cell_type": "markdown",
   "metadata": {},
   "source": [
    "Can you see why the following expression evaluates to `11`?"
   ]
  },
  {
   "cell_type": "code",
   "execution_count": null,
   "metadata": {},
   "outputs": [],
   "source": [
    "twice (twice (twice (fun i -> i+1))) 3;;"
   ]
  },
  {
   "cell_type": "markdown",
   "metadata": {},
   "source": [
    "If $f$ is a function and $n \\ge 0$ is an integer then the function $f^n$ is defined as follows:\n",
    "$$f^n(x) = \\underbrace{f(f(...f(}_{n\\text{ times}}x)...))$$\n",
    "In particular, $f^0(x)=x$. Given that $s$ is the function such that $s(x) = x + 1$ (which adds 1 to its argument), we can express the sum of two non-negative integers $m$ and $n$ as $m+n=s^n(m)$ (i.e. 1 is added to $m$ but $n$ times over).\n",
    "\n",
    "Think about how to express the product $m\\times n$ and power $m^n$ similarly, for non-negative integers. $Hint:$ Consider what has to be repeated $n$ times over to obtain $m \\times n$ or $m^n$. Note that the functions that are analogous to $s(x)$ may have to depend upon $m$.\n",
    "\n",
    "1. Write a curried function `nfold` such that `nfold f n` returns the function $f^n$. Use `nfold` to write curried functions `sum`, `product` and `power` to compute integer sums, products and powers as outlined above."
   ]
  },
  {
   "cell_type": "code",
   "execution_count": 7,
   "metadata": {
    "deletable": false,
    "nbgrader": {
     "cell_type": "code",
     "checksum": "f09dece5471618c9ea91349b999bb2a1",
     "grade": false,
     "grade_id": "cell-df350e67125dbd51",
     "locked": false,
     "schema_version": 3,
     "solution": true,
     "task": false
    }
   },
   "outputs": [
    {
     "data": {
      "text/plain": [
       "val nfold : ('a -> 'a) -> int -> 'a -> 'a = <fun>\n"
      ]
     },
     "execution_count": 7,
     "metadata": {},
     "output_type": "execute_result"
    },
    {
     "data": {
      "text/plain": [
       "val sum : int -> int -> int = <fun>\n"
      ]
     },
     "execution_count": 7,
     "metadata": {},
     "output_type": "execute_result"
    },
    {
     "data": {
      "text/plain": [
       "val product : int -> int -> int = <fun>\n"
      ]
     },
     "execution_count": 7,
     "metadata": {},
     "output_type": "execute_result"
    },
    {
     "data": {
      "text/plain": [
       "val power : int -> int -> int = <fun>\n"
      ]
     },
     "execution_count": 7,
     "metadata": {},
     "output_type": "execute_result"
    }
   ],
   "source": [
    "let rec nfold f n x = match n with \n",
    " | 0 -> x\n",
    " | n -> nfold f (n-1) (f x)\n",
    "    \n",
    "let sum m n = nfold (fun a -> a+1) n m\n",
    "    \n",
    "let product m n = nfold (sum m) n 0\n",
    "\n",
    "let power m n = nfold (product m) n 1"
   ]
  },
  {
   "cell_type": "code",
   "execution_count": 8,
   "metadata": {
    "deletable": false,
    "editable": false,
    "nbgrader": {
     "cell_type": "code",
     "checksum": "be91fefe76f980890abf612da47696b9",
     "grade": true,
     "grade_id": "cell-ffd0efb8a9b27ea9",
     "locked": true,
     "points": 1,
     "schema_version": 3,
     "solution": false,
     "task": false
    }
   },
   "outputs": [
    {
     "data": {
      "text/plain": [
       "- : unit = ()\n"
      ]
     },
     "execution_count": 8,
     "metadata": {},
     "output_type": "execute_result"
    },
    {
     "data": {
      "text/plain": [
       "- : unit = ()\n"
      ]
     },
     "execution_count": 8,
     "metadata": {},
     "output_type": "execute_result"
    },
    {
     "data": {
      "text/plain": [
       "- : unit = ()\n"
      ]
     },
     "execution_count": 8,
     "metadata": {},
     "output_type": "execute_result"
    },
    {
     "data": {
      "text/plain": [
       "- : unit = ()\n"
      ]
     },
     "execution_count": 8,
     "metadata": {},
     "output_type": "execute_result"
    },
    {
     "data": {
      "text/plain": [
       "- : unit = ()\n"
      ]
     },
     "execution_count": 8,
     "metadata": {},
     "output_type": "execute_result"
    },
    {
     "data": {
      "text/plain": [
       "- : unit = ()\n"
      ]
     },
     "execution_count": 8,
     "metadata": {},
     "output_type": "execute_result"
    },
    {
     "data": {
      "text/plain": [
       "- : unit = ()\n"
      ]
     },
     "execution_count": 8,
     "metadata": {},
     "output_type": "execute_result"
    },
    {
     "data": {
      "text/plain": [
       "- : unit = ()\n"
      ]
     },
     "execution_count": 8,
     "metadata": {},
     "output_type": "execute_result"
    },
    {
     "data": {
      "text/plain": [
       "- : unit = ()\n"
      ]
     },
     "execution_count": 8,
     "metadata": {},
     "output_type": "execute_result"
    },
    {
     "data": {
      "text/plain": [
       "- : unit = ()\n"
      ]
     },
     "execution_count": 8,
     "metadata": {},
     "output_type": "execute_result"
    },
    {
     "data": {
      "text/plain": [
       "- : unit = ()\n"
      ]
     },
     "execution_count": 8,
     "metadata": {},
     "output_type": "execute_result"
    },
    {
     "data": {
      "text/plain": [
       "- : unit = ()\n"
      ]
     },
     "execution_count": 8,
     "metadata": {},
     "output_type": "execute_result"
    },
    {
     "data": {
      "text/plain": [
       "- : unit = ()\n"
      ]
     },
     "execution_count": 8,
     "metadata": {},
     "output_type": "execute_result"
    },
    {
     "data": {
      "text/plain": [
       "- : unit = ()\n"
      ]
     },
     "execution_count": 8,
     "metadata": {},
     "output_type": "execute_result"
    },
    {
     "data": {
      "text/plain": [
       "- : unit = ()\n"
      ]
     },
     "execution_count": 8,
     "metadata": {},
     "output_type": "execute_result"
    }
   ],
   "source": [
    "assert(sum 0 0 = 0);;\n",
    "assert(sum 1 0 = 1);;\n",
    "assert(sum 0 1 = 1);;\n",
    "assert(sum 1 1 = 2);;\n",
    "assert(sum 100 100 = 200);;\n",
    "assert(product 0 0 = 0);;\n",
    "assert(product 1 0 = 0);;\n",
    "assert(product 0 1 = 0);;\n",
    "assert(product 1 1 = 1);;\n",
    "assert(product 14 9 = 126);;\n",
    "assert(power 0 1 = 0);;\n",
    "assert(power 1 0 = 1);;\n",
    "assert(power 1 1 = 1);;\n",
    "assert(power 3 0 = 1);;\n",
    "assert(power 3 5 = 243);;"
   ]
  },
  {
   "cell_type": "markdown",
   "metadata": {},
   "source": [
    "Here is a definition of streams (a.k.a sequences, infinite or lazy lists) that cannot terminate. Note that the function `from` (which creates the stream of integers starting from a specified value) can be declared exactly the same as with the type `'a seq` presented in the lectures."
   ]
  },
  {
   "cell_type": "code",
   "execution_count": 9,
   "metadata": {},
   "outputs": [
    {
     "data": {
      "text/plain": [
       "type 'a stream = Cons of 'a * (unit -> 'a stream)\n"
      ]
     },
     "execution_count": 9,
     "metadata": {},
     "output_type": "execute_result"
    },
    {
     "data": {
      "text/plain": [
       "val from : int -> int stream = <fun>\n"
      ]
     },
     "execution_count": 9,
     "metadata": {},
     "output_type": "execute_result"
    }
   ],
   "source": [
    "type 'a stream = Cons of 'a * (unit -> 'a stream)\n",
    "let rec from k = Cons(k, fun () -> from (k+1))"
   ]
  },
  {
   "cell_type": "markdown",
   "metadata": {},
   "source": [
    "2. Write a function `nth s n` to return the nth element of `s`. For example, `nth (from 1) 100` should return 100."
   ]
  },
  {
   "cell_type": "code",
   "execution_count": 12,
   "metadata": {
    "deletable": false,
    "nbgrader": {
     "cell_type": "code",
     "checksum": "a57471e46f6df73eccbb057f394216c3",
     "grade": false,
     "grade_id": "cell-24a79eeb16fa121e",
     "locked": false,
     "schema_version": 3,
     "solution": true,
     "task": false
    }
   },
   "outputs": [
    {
     "data": {
      "text/plain": [
       "val nth : 'a stream -> int -> 'a = <fun>\n"
      ]
     },
     "execution_count": 12,
     "metadata": {},
     "output_type": "execute_result"
    }
   ],
   "source": [
    "let rec nth s n = match s, n with\n",
    "    | Cons(x, xf), 1 -> x\n",
    "    | Cons(x, xf), n -> nth (xf ()) (n-1)"
   ]
  },
  {
   "cell_type": "code",
   "execution_count": 13,
   "metadata": {
    "deletable": false,
    "editable": false,
    "nbgrader": {
     "cell_type": "code",
     "checksum": "d85d78e8b2a4eab3161e39b2877f9814",
     "grade": true,
     "grade_id": "cell-72978811a2d2d59c",
     "locked": true,
     "points": 1,
     "schema_version": 3,
     "solution": false,
     "task": false
    }
   },
   "outputs": [
    {
     "data": {
      "text/plain": [
       "- : unit = ()\n"
      ]
     },
     "execution_count": 13,
     "metadata": {},
     "output_type": "execute_result"
    }
   ],
   "source": [
    "assert(nth (from 1) 100 = 100)"
   ]
  },
  {
   "cell_type": "markdown",
   "metadata": {},
   "source": [
    "3. Make the stream `squares` of positive squares (1, 4, 9, ...) and find its 49th element."
   ]
  },
  {
   "cell_type": "code",
   "execution_count": 14,
   "metadata": {
    "deletable": false,
    "nbgrader": {
     "cell_type": "code",
     "checksum": "0d13cff407a419c8099d7f376351db10",
     "grade": false,
     "grade_id": "cell-6139ccc02d8db255",
     "locked": false,
     "schema_version": 3,
     "solution": true,
     "task": false
    }
   },
   "outputs": [
    {
     "data": {
      "text/plain": [
       "val mapseq : ('a -> 'b) -> 'a stream -> 'b stream = <fun>\n"
      ]
     },
     "execution_count": 14,
     "metadata": {},
     "output_type": "execute_result"
    },
    {
     "data": {
      "text/plain": [
       "val squares : int stream = Cons (1, <fun>)\n"
      ]
     },
     "execution_count": 14,
     "metadata": {},
     "output_type": "execute_result"
    }
   ],
   "source": [
    "let rec mapseq f = function\n",
    "    | Cons(x, xf) -> Cons (f x, fun () -> mapseq f (xf()))\n",
    "\n",
    "let squares = mapseq (fun a -> a*a) (from 1)"
   ]
  },
  {
   "cell_type": "code",
   "execution_count": 15,
   "metadata": {
    "deletable": false,
    "editable": false,
    "nbgrader": {
     "cell_type": "code",
     "checksum": "6c0c4a3c0ca92a0ce75ce1bba4931445",
     "grade": true,
     "grade_id": "cell-0c4b85b121c5a03e",
     "locked": true,
     "points": 1,
     "schema_version": 3,
     "solution": false,
     "task": false
    }
   },
   "outputs": [
    {
     "data": {
      "text/plain": [
       "- : unit = ()\n"
      ]
     },
     "execution_count": 15,
     "metadata": {},
     "output_type": "execute_result"
    }
   ],
   "source": [
    "assert(nth squares 49 = 2401);;"
   ]
  },
  {
   "cell_type": "markdown",
   "metadata": {},
   "source": [
    "4. Write a function `map2 f xs ys`, similar to `mapq`, to take $x_1, x_2, x_3,...$ and $y_1, y_2, y_3, ...$ and return the stream $f(x_1)(y_1), f(x_2)(y_2), f(x_3)(y_3), ...$"
   ]
  },
  {
   "cell_type": "code",
   "execution_count": 16,
   "metadata": {
    "deletable": false,
    "nbgrader": {
     "cell_type": "code",
     "checksum": "777d43c51dc5719a1f882054ce19eb86",
     "grade": false,
     "grade_id": "cell-052ee5bc39383529",
     "locked": false,
     "schema_version": 3,
     "solution": true,
     "task": false
    }
   },
   "outputs": [
    {
     "data": {
      "text/plain": [
       "val map2 : ('a -> 'b -> 'c) -> 'a stream -> 'b stream -> 'c stream = <fun>\n"
      ]
     },
     "execution_count": 16,
     "metadata": {},
     "output_type": "execute_result"
    }
   ],
   "source": [
    "let rec map2 f xs ys = match xs, ys with\n",
    "    | Cons(x, xf), Cons(y, yf) -> Cons(f x y, fun () -> map2 f (xf()) (yf()) )\n"
   ]
  },
  {
   "cell_type": "code",
   "execution_count": 17,
   "metadata": {
    "deletable": false,
    "editable": false,
    "nbgrader": {
     "cell_type": "code",
     "checksum": "24013805c3fbd971f0c3bc54a0350f47",
     "grade": true,
     "grade_id": "cell-fbe5af6c3285b733",
     "locked": true,
     "points": 1,
     "schema_version": 3,
     "solution": false,
     "task": false
    }
   },
   "outputs": [
    {
     "data": {
      "text/plain": [
       "val take : int -> 'a stream -> 'a list = <fun>\n"
      ]
     },
     "execution_count": 17,
     "metadata": {},
     "output_type": "execute_result"
    },
    {
     "data": {
      "text/plain": [
       "- : unit = ()\n"
      ]
     },
     "execution_count": 17,
     "metadata": {},
     "output_type": "execute_result"
    }
   ],
   "source": [
    "let rec take n xs =\n",
    "    match xs with\n",
    "    | Cons (x,f) ->\n",
    "        if n=0\n",
    "        then []\n",
    "        else x::(take (n-1) (f()));;\n",
    "assert(take 5 (map2 (fun x y -> x+y) squares (from 10)) = [ 11; 15; 21; 29; 39]);;"
   ]
  },
  {
   "cell_type": "code",
   "execution_count": null,
   "metadata": {},
   "outputs": [],
   "source": []
  }
 ],
 "metadata": {
  "kernelspec": {
   "display_name": "OCaml 4.14",
   "language": "OCaml",
   "name": "ocaml-jupyter"
  },
  "language_info": {
   "codemirror_mode": "text/x-ocaml",
   "file_extension": ".ml",
   "mimetype": "text/x-ocaml",
   "name": "OCaml",
   "nbconverter_exporter": null,
   "pygments_lexer": "OCaml",
   "version": "4.14.1"
  }
 },
 "nbformat": 4,
 "nbformat_minor": 2
}
