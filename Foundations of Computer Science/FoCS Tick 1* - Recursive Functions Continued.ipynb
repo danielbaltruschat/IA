{
 "cells": [
  {
   "cell_type": "markdown",
   "metadata": {},
   "source": [
    "Before you submit this tick, make sure everything runs as expected. First, **save your work** (in the menubar, select File$\\rightarrow$Save and Checkpoint). Then **restart the kernel** (in the menubar, select Kernel$\\rightarrow$Restart) and then **run all cells** (in the menubar, select Cell$\\rightarrow$Run All).\n",
    "\n",
    "Make sure you fill in any place that says `YOUR CODE HERE` or \"YOUR ANSWER HERE\", and remove any instances of `failwith \"Not implemented\";;`\n"
   ]
  },
  {
   "cell_type": "markdown",
   "metadata": {},
   "source": [
    "---"
   ]
  },
  {
   "cell_type": "markdown",
   "metadata": {},
   "source": [
    "# FoCS Tick 1* - Recursive Functions Continued\n",
    "\n",
    "Write an OCaml function `eapprox(n)` to sum the `n` terms in the approximation\n",
    "$$\\exp \\approx 1 + \\frac{1}{1!} + \\frac{1}{2!} + ... + \\frac{1}{(n-1)!}$$\n",
    "Again, each term can be cheaply computed.\n"
   ]
  },
  {
   "cell_type": "code",
   "execution_count": 2,
   "metadata": {
    "deletable": false,
    "nbgrader": {
     "cell_type": "code",
     "checksum": "cc3dca8724b554a67559bf16b4f5c809",
     "grade": false,
     "grade_id": "cell-ad5fdb2dd501d4fa",
     "locked": false,
     "schema_version": 3,
     "solution": true,
     "task": false
    }
   },
   "outputs": [
    {
     "data": {
      "text/plain": [
       "val eapprox : int -> float = <fun>\n"
      ]
     },
     "execution_count": 2,
     "metadata": {},
     "output_type": "execute_result"
    }
   ],
   "source": [
    "let eapprox n =\n",
    "    let rec hlp n x count = match count with\n",
    "    | 1 -> x\n",
    "    | _ -> x +. hlp (n+1) (x /. (float_of_int n)) (count-1)\n",
    "    in hlp 1 1.0 n"
   ]
  },
  {
   "cell_type": "markdown",
   "metadata": {},
   "source": [
    "Test your function with the following cell."
   ]
  },
  {
   "cell_type": "code",
   "execution_count": 3,
   "metadata": {
    "deletable": false,
    "editable": false,
    "nbgrader": {
     "cell_type": "code",
     "checksum": "91818ec3c7fea48b14e0de0582198afc",
     "grade": true,
     "grade_id": "cell-be54a6efe6d5abb1",
     "locked": true,
     "points": 1,
     "schema_version": 3,
     "solution": false,
     "task": false
    }
   },
   "outputs": [
    {
     "data": {
      "text/plain": [
       "val approx_eq : float -> float -> bool = <fun>\n"
      ]
     },
     "execution_count": 3,
     "metadata": {},
     "output_type": "execute_result"
    },
    {
     "data": {
      "text/plain": [
       "- : unit = ()\n"
      ]
     },
     "execution_count": 3,
     "metadata": {},
     "output_type": "execute_result"
    },
    {
     "data": {
      "text/plain": [
       "- : unit = ()\n"
      ]
     },
     "execution_count": 3,
     "metadata": {},
     "output_type": "execute_result"
    },
    {
     "data": {
      "text/plain": [
       "- : unit = ()\n"
      ]
     },
     "execution_count": 3,
     "metadata": {},
     "output_type": "execute_result"
    },
    {
     "data": {
      "text/plain": [
       "- : unit = ()\n"
      ]
     },
     "execution_count": 3,
     "metadata": {},
     "output_type": "execute_result"
    }
   ],
   "source": [
    "let approx_eq a b = abs_float (a -. b) < 1e-10;;\n",
    "\n",
    "assert (approx_eq (eapprox 1) 1.0);;\n",
    "assert (approx_eq (eapprox 2) 2.0);;\n",
    "assert (approx_eq (eapprox 3) 2.5);;\n",
    "assert (approx_eq (eapprox 10) 2.7182815255);;"
   ]
  },
  {
   "cell_type": "markdown",
   "metadata": {},
   "source": [
    "2. Write an OCaml function `exp z n` to compute the exponential function:\n",
    "$$\\exp(z) \\approx  1 + \\frac{z}{1!} + \\frac{z^2}{2!} + ... + \\frac{z^{n-1}}{(n-1)!}$$"
   ]
  },
  {
   "cell_type": "code",
   "execution_count": 4,
   "metadata": {
    "deletable": false,
    "nbgrader": {
     "cell_type": "code",
     "checksum": "2fa7369b39bbc5a170954f83e332c2ef",
     "grade": false,
     "grade_id": "cell-5874508d2d04bbb2",
     "locked": false,
     "schema_version": 3,
     "solution": true,
     "task": false
    }
   },
   "outputs": [
    {
     "data": {
      "text/plain": [
       "val exp : float -> int -> float = <fun>\n"
      ]
     },
     "execution_count": 4,
     "metadata": {},
     "output_type": "execute_result"
    }
   ],
   "source": [
    "let exp z n =\n",
    "    let rec hlp z n x count = match count with\n",
    "    | 1 -> x\n",
    "    | _ -> x +. hlp z (n+1) (x /. (float_of_int n) *. z) (count-1)\n",
    "    in hlp z 1 1.0 n"
   ]
  },
  {
   "cell_type": "markdown",
   "metadata": {},
   "source": [
    "Check your solution with the following test cell."
   ]
  },
  {
   "cell_type": "code",
   "execution_count": 5,
   "metadata": {
    "deletable": false,
    "editable": false,
    "nbgrader": {
     "cell_type": "code",
     "checksum": "3a1c85fa9d2ccd0e2f8e6fa94ad6783f",
     "grade": true,
     "grade_id": "cell-b09a75ce5244fb87",
     "locked": true,
     "points": 1,
     "schema_version": 3,
     "solution": false,
     "task": false
    }
   },
   "outputs": [
    {
     "data": {
      "text/plain": [
       "- : unit = ()\n"
      ]
     },
     "execution_count": 5,
     "metadata": {},
     "output_type": "execute_result"
    },
    {
     "data": {
      "text/plain": [
       "- : unit = ()\n"
      ]
     },
     "execution_count": 5,
     "metadata": {},
     "output_type": "execute_result"
    },
    {
     "data": {
      "text/plain": [
       "- : unit = ()\n"
      ]
     },
     "execution_count": 5,
     "metadata": {},
     "output_type": "execute_result"
    },
    {
     "data": {
      "text/plain": [
       "- : unit = ()\n"
      ]
     },
     "execution_count": 5,
     "metadata": {},
     "output_type": "execute_result"
    },
    {
     "data": {
      "text/plain": [
       "- : unit = ()\n"
      ]
     },
     "execution_count": 5,
     "metadata": {},
     "output_type": "execute_result"
    }
   ],
   "source": [
    "assert (approx_eq (exp 1.0 1) 1.0);;\n",
    "assert (approx_eq (exp 1.0 2) 2.0);;\n",
    "assert (approx_eq (exp 1.0 3) 2.5);;\n",
    "assert (approx_eq (exp 1.0 10) 2.7182815255);;\n",
    "assert (approx_eq (exp 1.5 18) (Stdlib.exp 1.5))"
   ]
  },
  {
   "cell_type": "markdown",
   "metadata": {},
   "source": [
    "The *binary greatest common divisor algorithm* is based on the following observations:\n",
    "$$\\begin{align}\n",
    "gcd(a,a) &= a \\\\\n",
    "gcd(2a,2b) &= 2 gcd(a,b) \\\\\n",
    "gcd(2a+1,2b) &= gcd(2a+1,b) \\\\\n",
    "gcd(2a+1,2b+1) &= gcd(2b+1,a-b)\n",
    "\\end{align}$$\n",
    "This algorithm is particularly appealing to implement in hardware due to its reliance on division by two.\n",
    "\n",
    "3. Fill in the gaps in this description and implement the resulting recursive function `gcd` in OCaml, to work with positive integers. You will need to ensure that zero and negative integers are never introduced in recursive calls."
   ]
  },
  {
   "cell_type": "code",
   "execution_count": null,
   "metadata": {
    "deletable": false,
    "nbgrader": {
     "cell_type": "code",
     "checksum": "b70b07e2450b6d754039e548761e0bac",
     "grade": false,
     "grade_id": "cell-e60d499a2aaee53f",
     "locked": false,
     "schema_version": 3,
     "solution": true,
     "task": false
    }
   },
   "outputs": [],
   "source": [
    "let even n = ((n mod 2) = 0)\n",
    "\n",
    "let rec gcd a b =\n",
    "    if b>a then gcd b a\n",
    "    else if a=b then a\n",
    "    else if even a && even b then 2 * gcd (a/2) (b/2)\n",
    "    else if (not (even a)) && even b then gcd a (b/2)\n",
    "    else if even a && not (even b) then gcd (a/2) b\n",
    "    else if (not (even a)) && (not (even b)) then gcd b ((a-1)/2 - (b-1)/2)\n",
    "    else 0\n"
   ]
  },
  {
   "cell_type": "markdown",
   "metadata": {},
   "source": [
    "Test your implementation with the following cell."
   ]
  },
  {
   "cell_type": "code",
   "execution_count": null,
   "metadata": {
    "deletable": false,
    "editable": false,
    "nbgrader": {
     "cell_type": "code",
     "checksum": "e85834339a7f3e7e8fcb4ac4e52fa9c3",
     "grade": true,
     "grade_id": "cell-6f10c05615dac8ac",
     "locked": true,
     "points": 1,
     "schema_version": 3,
     "solution": false,
     "task": false
    }
   },
   "outputs": [],
   "source": [
    "assert(gcd 1 10 = 1);;\n",
    "assert(gcd 2 10 = 2);;\n",
    "assert(gcd 3 10 = 1);;\n",
    "assert(gcd 1 9 = 1);;\n",
    "assert(gcd 2 9 = 1);;\n",
    "assert(gcd 3 9 = 3);;\n",
    "assert(gcd 24826148 45296490 = 526);;\n",
    "assert(gcd 461952 116298 = 18);;"
   ]
  },
  {
   "cell_type": "code",
   "execution_count": null,
   "metadata": {},
   "outputs": [],
   "source": []
  },
  {
   "cell_type": "code",
   "execution_count": null,
   "metadata": {},
   "outputs": [],
   "source": []
  }
 ],
 "metadata": {
  "kernelspec": {
   "display_name": "OCaml 4.14",
   "language": "OCaml",
   "name": "ocaml-jupyter"
  },
  "language_info": {
   "codemirror_mode": "text/x-ocaml",
   "file_extension": ".ml",
   "mimetype": "text/x-ocaml",
   "name": "OCaml",
   "nbconverter_exporter": null,
   "pygments_lexer": "OCaml",
   "version": "4.14.1"
  }
 },
 "nbformat": 4,
 "nbformat_minor": 2
}
